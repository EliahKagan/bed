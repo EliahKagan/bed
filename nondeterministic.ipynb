{
 "cells": [
  {
   "attachments": {},
   "cell_type": "markdown",
   "metadata": {},
   "source": [
    "# Model nondeterminism (cursory examination)\n",
    "\n",
    "SPDX-License-Identifier: 0BSD\n",
    "\n",
    "Embedding the same text with the same model multiple times sometimes returns\n",
    "different results. This is okay, since the results are sufficiently similar.\n",
    "\n",
    "This also shows one way to serialize and deserialize embeddings with the\n",
    "safetensors library."
   ]
  },
  {
   "cell_type": "code",
   "execution_count": 1,
   "metadata": {},
   "outputs": [],
   "source": [
    "import logging\n",
    "\n",
    "import numpy as np\n",
    "import openai\n",
    "import openai.embeddings_utils\n",
    "import safetensors.numpy"
   ]
  },
  {
   "cell_type": "code",
   "execution_count": 2,
   "metadata": {},
   "outputs": [],
   "source": [
    "logging.basicConfig(level=logging.INFO)\n",
    "openai.api_key_path = '.api_key'"
   ]
  },
  {
   "cell_type": "code",
   "execution_count": 3,
   "metadata": {},
   "outputs": [],
   "source": [
    "def save(embeddings, basename):\n",
    "    safetensors.numpy.save_file(\n",
    "        tensor_dict={'embeddings': embeddings},\n",
    "        filename=f'{basename}.safetensors',\n",
    "    )"
   ]
  },
  {
   "cell_type": "code",
   "execution_count": 4,
   "metadata": {},
   "outputs": [],
   "source": [
    "def load(basename):\n",
    "    tensor_dict = safetensors.numpy.load_file(f'{basename}.safetensors')\n",
    "    return tensor_dict['embeddings']"
   ]
  },
  {
   "cell_type": "code",
   "execution_count": 5,
   "metadata": {},
   "outputs": [],
   "source": [
    "def embed(texts):\n",
    "    embeddings = openai.embeddings_utils.get_embeddings(\n",
    "        texts,\n",
    "        engine='text-embedding-ada-002',\n",
    "    )\n",
    "    return np.array(embeddings, np.float32)"
   ]
  },
  {
   "cell_type": "code",
   "execution_count": 6,
   "metadata": {},
   "outputs": [],
   "source": [
    "TEXTS = [\n",
    "    'Gee whiz!',\n",
    "    'Golly wow!',\n",
    "    'Well, shucks!',\n",
    "    'The meeting is this afternoon!',\n",
    "]"
   ]
  },
  {
   "cell_type": "code",
   "execution_count": 7,
   "metadata": {},
   "outputs": [],
   "source": [
    "a = embed(TEXTS)"
   ]
  },
  {
   "cell_type": "code",
   "execution_count": 8,
   "metadata": {},
   "outputs": [
    {
     "data": {
      "text/plain": [
       "array([[0.9999997 , 0.92304474, 0.880876  , 0.7803911 ],\n",
       "       [0.92304474, 0.9999997 , 0.8696495 , 0.7692273 ],\n",
       "       [0.880876  , 0.8696495 , 0.9999999 , 0.7567709 ],\n",
       "       [0.7803911 , 0.7692273 , 0.7567709 , 0.9999999 ]], dtype=float32)"
      ]
     },
     "execution_count": 8,
     "metadata": {},
     "output_type": "execute_result"
    }
   ],
   "source": [
    "a @ np.transpose(a)"
   ]
  },
  {
   "cell_type": "code",
   "execution_count": 9,
   "metadata": {},
   "outputs": [],
   "source": [
    "b = embed(TEXTS)"
   ]
  },
  {
   "cell_type": "code",
   "execution_count": 10,
   "metadata": {},
   "outputs": [
    {
     "data": {
      "text/plain": [
       "False"
      ]
     },
     "execution_count": 10,
     "metadata": {},
     "output_type": "execute_result"
    }
   ],
   "source": [
    "(a == b).all()"
   ]
  },
  {
   "cell_type": "code",
   "execution_count": 11,
   "metadata": {},
   "outputs": [
    {
     "data": {
      "text/plain": [
       "array([[-1.6696658e-04,  1.3367026e-03,  1.2473017e-04, ...,\n",
       "        -1.6386993e-04, -6.8068644e-04,  7.0284493e-04],\n",
       "       [-9.1372058e-05, -5.7785423e-05, -2.5609508e-05, ...,\n",
       "         2.5652349e-05, -6.3115731e-06, -5.2718446e-05],\n",
       "       [ 2.0223390e-04, -2.8806739e-04,  1.6142055e-04, ...,\n",
       "         1.8481724e-04,  2.3951288e-04,  2.4639070e-05],\n",
       "       [ 1.9489788e-05,  2.1886081e-08, -2.6035123e-05, ...,\n",
       "         1.6950071e-07, -2.9133749e-05,  1.8812716e-07]], dtype=float32)"
      ]
     },
     "execution_count": 11,
     "metadata": {},
     "output_type": "execute_result"
    }
   ],
   "source": [
    "a - b"
   ]
  },
  {
   "cell_type": "code",
   "execution_count": 12,
   "metadata": {},
   "outputs": [
    {
     "data": {
      "text/plain": [
       "(-0.0026937034, 0.0031313733)"
      ]
     },
     "execution_count": 12,
     "metadata": {},
     "output_type": "execute_result"
    }
   ],
   "source": [
    "(a - b).min(), (a - b).max()"
   ]
  },
  {
   "cell_type": "code",
   "execution_count": 13,
   "metadata": {},
   "outputs": [
    {
     "data": {
      "text/plain": [
       "0.00022494205"
      ]
     },
     "execution_count": 13,
     "metadata": {},
     "output_type": "execute_result"
    }
   ],
   "source": [
    "abs(a - b).mean()"
   ]
  },
  {
   "cell_type": "code",
   "execution_count": 14,
   "metadata": {},
   "outputs": [
    {
     "data": {
      "text/plain": [
       "[1.0, 1.0000001, 0.99999976, 1.0]"
      ]
     },
     "execution_count": 14,
     "metadata": {},
     "output_type": "execute_result"
    }
   ],
   "source": [
    "[np.dot(a_row, a_row) for a_row in a]"
   ]
  },
  {
   "cell_type": "code",
   "execution_count": 15,
   "metadata": {},
   "outputs": [
    {
     "data": {
      "text/plain": [
       "[0.99999994, 1.0, 1.0, 1.0]"
      ]
     },
     "execution_count": 15,
     "metadata": {},
     "output_type": "execute_result"
    }
   ],
   "source": [
    "[np.dot(b_row, b_row) for b_row in b]"
   ]
  },
  {
   "cell_type": "code",
   "execution_count": 16,
   "metadata": {},
   "outputs": [
    {
     "data": {
      "text/plain": [
       "[0.99950594, 0.9999989, 0.99995404, 0.99999845]"
      ]
     },
     "execution_count": 16,
     "metadata": {},
     "output_type": "execute_result"
    }
   ],
   "source": [
    "[np.dot(a_row, b_row) for a_row, b_row in zip(a, b)]"
   ]
  },
  {
   "cell_type": "code",
   "execution_count": 17,
   "metadata": {},
   "outputs": [],
   "source": [
    "save(a, 'a')\n",
    "save(b, 'b')"
   ]
  }
 ],
 "metadata": {
  "kernelspec": {
   "display_name": "bed-vNjRVhtj",
   "language": "python",
   "name": "python3"
  },
  "language_info": {
   "codemirror_mode": {
    "name": "ipython",
    "version": 3
   },
   "file_extension": ".py",
   "mimetype": "text/x-python",
   "name": "python",
   "nbconvert_exporter": "python",
   "pygments_lexer": "ipython3",
   "version": "3.11.3"
  },
  "orig_nbformat": 4,
  "vscode": {
   "interpreter": {
    "hash": "f9569337c2404346193933531d883fa944c4a6206c7687dcf04327ceca4d7712"
   }
  }
 },
 "nbformat": 4,
 "nbformat_minor": 2
}
