{
 "cells": [
  {
   "attachments": {},
   "cell_type": "markdown",
   "metadata": {},
   "source": [
    "# Model nondeterminism (cursory examination)\n",
    "\n",
    "SPDX-License-Identifier: 0BSD\n",
    "\n",
    "Embedding the same text with the same model multiple times sometimes returns\n",
    "different results. This is okay, since the results are sufficiently similar.\n",
    "\n",
    "This also shows one way to serialize and deserialize embeddings with the\n",
    "safetensors library."
   ]
  },
  {
   "cell_type": "code",
   "execution_count": 1,
   "metadata": {},
   "outputs": [],
   "source": [
    "import logging\n",
    "\n",
    "import numpy as np\n",
    "import openai\n",
    "import openai.embeddings_utils\n",
    "import safetensors.numpy"
   ]
  },
  {
   "cell_type": "code",
   "execution_count": 2,
   "metadata": {},
   "outputs": [],
   "source": [
    "logging.basicConfig(level=logging.INFO)\n",
    "openai.api_key_path = '.api_key'"
   ]
  },
  {
   "cell_type": "code",
   "execution_count": 3,
   "metadata": {},
   "outputs": [],
   "source": [
    "def save(embeddings, basename):\n",
    "    safetensors.numpy.save_file(\n",
    "        tensor_dict={'embeddings': embeddings},\n",
    "        filename=f'{basename}.safetensors',\n",
    "    )"
   ]
  },
  {
   "cell_type": "code",
   "execution_count": 4,
   "metadata": {},
   "outputs": [],
   "source": [
    "def load(basename):\n",
    "    tensor_dict = safetensors.numpy.load_file(f'{basename}.safetensors')\n",
    "    return tensor_dict['embeddings']"
   ]
  },
  {
   "cell_type": "code",
   "execution_count": 5,
   "metadata": {},
   "outputs": [],
   "source": [
    "def embed(texts):\n",
    "    embeddings = openai.embeddings_utils.get_embeddings(\n",
    "        texts,\n",
    "        engine='text-embedding-ada-002',\n",
    "    )\n",
    "    return np.array(embeddings, np.float32)"
   ]
  },
  {
   "cell_type": "code",
   "execution_count": 6,
   "metadata": {},
   "outputs": [],
   "source": [
    "TEXTS = [\n",
    "    'Gee whiz!',\n",
    "    'Golly wow!',\n",
    "    'Well, shucks!',\n",
    "    'The meeting is this afternoon!',\n",
    "]"
   ]
  },
  {
   "cell_type": "code",
   "execution_count": 7,
   "metadata": {},
   "outputs": [
    {
     "name": "stderr",
     "output_type": "stream",
     "text": [
      "INFO:openai:message='Request to OpenAI API' method=post path=https://api.openai.com/v1/engines/text-embedding-ada-002/embeddings\n",
      "INFO:openai:message='OpenAI API response' path=https://api.openai.com/v1/engines/text-embedding-ada-002/embeddings processing_ms=160 request_id=f991af66f6a14ef355a474a3ea7b5701 response_code=200\n"
     ]
    }
   ],
   "source": [
    "a = embed(TEXTS)"
   ]
  },
  {
   "cell_type": "code",
   "execution_count": 8,
   "metadata": {},
   "outputs": [
    {
     "data": {
      "text/plain": [
       "array([[1.        , 0.9236444 , 0.880864  , 0.78083616],\n",
       "       [0.9236444 , 1.        , 0.86998427, 0.76927197],\n",
       "       [0.880864  , 0.86998427, 1.0000004 , 0.7571081 ],\n",
       "       [0.78083616, 0.76927197, 0.7571081 , 0.99999976]], dtype=float32)"
      ]
     },
     "execution_count": 8,
     "metadata": {},
     "output_type": "execute_result"
    }
   ],
   "source": [
    "a @ np.transpose(a)"
   ]
  },
  {
   "cell_type": "code",
   "execution_count": 9,
   "metadata": {},
   "outputs": [
    {
     "name": "stderr",
     "output_type": "stream",
     "text": [
      "INFO:openai:message='Request to OpenAI API' method=post path=https://api.openai.com/v1/engines/text-embedding-ada-002/embeddings\n",
      "INFO:openai:message='OpenAI API response' path=https://api.openai.com/v1/engines/text-embedding-ada-002/embeddings processing_ms=27 request_id=8abc5cf3fefd8fcbea40877589117248 response_code=200\n"
     ]
    }
   ],
   "source": [
    "b = embed(TEXTS)"
   ]
  },
  {
   "cell_type": "code",
   "execution_count": 10,
   "metadata": {},
   "outputs": [
    {
     "data": {
      "text/plain": [
       "False"
      ]
     },
     "execution_count": 10,
     "metadata": {},
     "output_type": "execute_result"
    }
   ],
   "source": [
    "(a == b).all()"
   ]
  },
  {
   "cell_type": "code",
   "execution_count": 11,
   "metadata": {},
   "outputs": [
    {
     "data": {
      "text/plain": [
       "array([[ 0.0000000e+00,  0.0000000e+00,  0.0000000e+00, ...,\n",
       "         0.0000000e+00,  0.0000000e+00,  0.0000000e+00],\n",
       "       [ 0.0000000e+00,  0.0000000e+00,  0.0000000e+00, ...,\n",
       "         0.0000000e+00,  0.0000000e+00,  0.0000000e+00],\n",
       "       [ 7.6527242e-05,  3.8238242e-05,  1.2759585e-05, ...,\n",
       "         3.8238242e-05,  3.1872652e-05, -6.3799322e-05],\n",
       "       [ 5.8477744e-06, -4.0630111e-05, -1.1708587e-05, ...,\n",
       "         2.4458393e-05,  2.5135232e-06,  1.1369586e-05]], dtype=float32)"
      ]
     },
     "execution_count": 11,
     "metadata": {},
     "output_type": "execute_result"
    }
   ],
   "source": [
    "a - b"
   ]
  },
  {
   "cell_type": "code",
   "execution_count": 12,
   "metadata": {},
   "outputs": [
    {
     "data": {
      "text/plain": [
       "(-0.00021465123, 0.00017218664)"
      ]
     },
     "execution_count": 12,
     "metadata": {},
     "output_type": "execute_result"
    }
   ],
   "source": [
    "(a - b).min(), (a - b).max()"
   ]
  },
  {
   "cell_type": "code",
   "execution_count": 13,
   "metadata": {},
   "outputs": [
    {
     "data": {
      "text/plain": [
       "1.8379125e-05"
      ]
     },
     "execution_count": 13,
     "metadata": {},
     "output_type": "execute_result"
    }
   ],
   "source": [
    "abs(a - b).mean()"
   ]
  },
  {
   "cell_type": "code",
   "execution_count": 14,
   "metadata": {},
   "outputs": [
    {
     "data": {
      "text/plain": [
       "[1.0000001, 1.0000001, 1.0, 1.0]"
      ]
     },
     "execution_count": 14,
     "metadata": {},
     "output_type": "execute_result"
    }
   ],
   "source": [
    "[np.dot(a_row, a_row) for a_row in a]"
   ]
  },
  {
   "cell_type": "code",
   "execution_count": 15,
   "metadata": {},
   "outputs": [
    {
     "data": {
      "text/plain": [
       "[1.0000001, 1.0000001, 1.0000001, 1.0]"
      ]
     },
     "execution_count": 15,
     "metadata": {},
     "output_type": "execute_result"
    }
   ],
   "source": [
    "[np.dot(b_row, b_row) for b_row in b]"
   ]
  },
  {
   "cell_type": "code",
   "execution_count": 16,
   "metadata": {},
   "outputs": [
    {
     "data": {
      "text/plain": [
       "[1.0000001, 1.0000001, 0.9999981, 0.99999875]"
      ]
     },
     "execution_count": 16,
     "metadata": {},
     "output_type": "execute_result"
    }
   ],
   "source": [
    "[np.dot(a_row, b_row) for a_row, b_row in zip(a, b)]"
   ]
  },
  {
   "cell_type": "code",
   "execution_count": 17,
   "metadata": {},
   "outputs": [],
   "source": [
    "save(a, 'a')\n",
    "save(b, 'b')"
   ]
  },
  {
   "cell_type": "code",
   "execution_count": null,
   "metadata": {},
   "outputs": [],
   "source": []
  }
 ],
 "metadata": {
  "kernelspec": {
   "display_name": "bed",
   "language": "python",
   "name": "python3"
  },
  "language_info": {
   "codemirror_mode": {
    "name": "ipython",
    "version": 3
   },
   "file_extension": ".py",
   "mimetype": "text/x-python",
   "name": "python",
   "nbconvert_exporter": "python",
   "pygments_lexer": "ipython3",
   "version": "3.11.0"
  },
  "orig_nbformat": 4,
  "vscode": {
   "interpreter": {
    "hash": "01a8d1aa435ff86957be7258780b0cea2ae226025dac4edca366e95fb872fbf3"
   }
  }
 },
 "nbformat": 4,
 "nbformat_minor": 2
}
