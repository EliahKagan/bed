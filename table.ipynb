{
 "cells": [
  {
   "attachments": {},
   "cell_type": "markdown",
   "metadata": {},
   "source": [
    "# All-pairs similarities\n",
    "\n",
    "SPDX-License-Identifier: 0BSD\n",
    "\n",
    "Multiplying a matrix whose rows are embeddings by is transpose gives a matrix whose $(i, j)$ entries are the similarities between the $i$-th and $j$-th embedding."
   ]
  },
  {
   "cell_type": "code",
   "execution_count": 1,
   "metadata": {},
   "outputs": [],
   "source": [
    "import numpy as np\n",
    "import openai.embeddings_utils\n",
    "import tabulate"
   ]
  },
  {
   "cell_type": "code",
   "execution_count": 2,
   "metadata": {},
   "outputs": [],
   "source": [
    "np.set_printoptions(linewidth=120)"
   ]
  },
  {
   "cell_type": "code",
   "execution_count": 3,
   "metadata": {},
   "outputs": [],
   "source": [
    "openai.api_key_path = '.api_key'"
   ]
  },
  {
   "cell_type": "code",
   "execution_count": 4,
   "metadata": {},
   "outputs": [],
   "source": [
    "texts = [\n",
    "    'French kissing experts',\n",
    "    'kissing French experts',\n",
    "    'experts in French kissing',\n",
    "    'kissing French people who are experts',\n",
    "    'The canine shall never perish from the earth.',\n",
    "    'Somewhere in the world, there will always be dogs.',\n",
    "    'Quelque part au monde, il y aura toujours des chiens.',\n",
    "    'The tabular data have been sequestered from the public.',\n",
    "]"
   ]
  },
  {
   "cell_type": "code",
   "execution_count": 5,
   "metadata": {},
   "outputs": [],
   "source": [
    "embeddings = openai.embeddings_utils.get_embeddings(\n",
    "    list_of_text=texts,\n",
    "    engine='text-embedding-ada-002',\n",
    ")\n",
    "matrix = np.array(embeddings)"
   ]
  },
  {
   "cell_type": "code",
   "execution_count": 6,
   "metadata": {},
   "outputs": [],
   "source": [
    "similarities = matrix @ matrix.transpose()"
   ]
  },
  {
   "cell_type": "code",
   "execution_count": 7,
   "metadata": {},
   "outputs": [
    {
     "data": {
      "text/html": [
       "<table>\n",
       "<tbody>\n",
       "<tr><td style=\"text-align: right;\">1       </td><td style=\"text-align: right;\">0.961492</td><td style=\"text-align: right;\">0.945527</td><td style=\"text-align: right;\">0.941626</td><td style=\"text-align: right;\">0.718768</td><td style=\"text-align: right;\">0.722333</td><td style=\"text-align: right;\">0.727743</td><td style=\"text-align: right;\">0.715571</td></tr>\n",
       "<tr><td style=\"text-align: right;\">0.961492</td><td style=\"text-align: right;\">1       </td><td style=\"text-align: right;\">0.962627</td><td style=\"text-align: right;\">0.975773</td><td style=\"text-align: right;\">0.721018</td><td style=\"text-align: right;\">0.725289</td><td style=\"text-align: right;\">0.736488</td><td style=\"text-align: right;\">0.710645</td></tr>\n",
       "<tr><td style=\"text-align: right;\">0.945527</td><td style=\"text-align: right;\">0.962627</td><td style=\"text-align: right;\">1       </td><td style=\"text-align: right;\">0.949177</td><td style=\"text-align: right;\">0.714175</td><td style=\"text-align: right;\">0.716629</td><td style=\"text-align: right;\">0.720101</td><td style=\"text-align: right;\">0.687406</td></tr>\n",
       "<tr><td style=\"text-align: right;\">0.941626</td><td style=\"text-align: right;\">0.975773</td><td style=\"text-align: right;\">0.949177</td><td style=\"text-align: right;\">1       </td><td style=\"text-align: right;\">0.71684 </td><td style=\"text-align: right;\">0.731705</td><td style=\"text-align: right;\">0.739961</td><td style=\"text-align: right;\">0.703252</td></tr>\n",
       "<tr><td style=\"text-align: right;\">0.718768</td><td style=\"text-align: right;\">0.721018</td><td style=\"text-align: right;\">0.714175</td><td style=\"text-align: right;\">0.71684 </td><td style=\"text-align: right;\">1       </td><td style=\"text-align: right;\">0.868909</td><td style=\"text-align: right;\">0.825094</td><td style=\"text-align: right;\">0.708968</td></tr>\n",
       "<tr><td style=\"text-align: right;\">0.722333</td><td style=\"text-align: right;\">0.725289</td><td style=\"text-align: right;\">0.716629</td><td style=\"text-align: right;\">0.731705</td><td style=\"text-align: right;\">0.868909</td><td style=\"text-align: right;\">1       </td><td style=\"text-align: right;\">0.938034</td><td style=\"text-align: right;\">0.68824 </td></tr>\n",
       "<tr><td style=\"text-align: right;\">0.727743</td><td style=\"text-align: right;\">0.736488</td><td style=\"text-align: right;\">0.720101</td><td style=\"text-align: right;\">0.739961</td><td style=\"text-align: right;\">0.825094</td><td style=\"text-align: right;\">0.938034</td><td style=\"text-align: right;\">1       </td><td style=\"text-align: right;\">0.662695</td></tr>\n",
       "<tr><td style=\"text-align: right;\">0.715571</td><td style=\"text-align: right;\">0.710645</td><td style=\"text-align: right;\">0.687406</td><td style=\"text-align: right;\">0.703252</td><td style=\"text-align: right;\">0.708968</td><td style=\"text-align: right;\">0.68824 </td><td style=\"text-align: right;\">0.662695</td><td style=\"text-align: right;\">1       </td></tr>\n",
       "</tbody>\n",
       "</table>"
      ],
      "text/plain": [
       "'<table>\\n<tbody>\\n<tr><td style=\"text-align: right;\">1       </td><td style=\"text-align: right;\">0.961492</td><td style=\"text-align: right;\">0.945527</td><td style=\"text-align: right;\">0.941626</td><td style=\"text-align: right;\">0.718768</td><td style=\"text-align: right;\">0.722333</td><td style=\"text-align: right;\">0.727743</td><td style=\"text-align: right;\">0.715571</td></tr>\\n<tr><td style=\"text-align: right;\">0.961492</td><td style=\"text-align: right;\">1       </td><td style=\"text-align: right;\">0.962627</td><td style=\"text-align: right;\">0.975773</td><td style=\"text-align: right;\">0.721018</td><td style=\"text-align: right;\">0.725289</td><td style=\"text-align: right;\">0.736488</td><td style=\"text-align: right;\">0.710645</td></tr>\\n<tr><td style=\"text-align: right;\">0.945527</td><td style=\"text-align: right;\">0.962627</td><td style=\"text-align: right;\">1       </td><td style=\"text-align: right;\">0.949177</td><td style=\"text-align: right;\">0.714175</td><td style=\"text-align: right;\">0.716629</td><td style=\"text-align: right;\">0.720101</td><td style=\"text-align: right;\">0.687406</td></tr>\\n<tr><td style=\"text-align: right;\">0.941626</td><td style=\"text-align: right;\">0.975773</td><td style=\"text-align: right;\">0.949177</td><td style=\"text-align: right;\">1       </td><td style=\"text-align: right;\">0.71684 </td><td style=\"text-align: right;\">0.731705</td><td style=\"text-align: right;\">0.739961</td><td style=\"text-align: right;\">0.703252</td></tr>\\n<tr><td style=\"text-align: right;\">0.718768</td><td style=\"text-align: right;\">0.721018</td><td style=\"text-align: right;\">0.714175</td><td style=\"text-align: right;\">0.71684 </td><td style=\"text-align: right;\">1       </td><td style=\"text-align: right;\">0.868909</td><td style=\"text-align: right;\">0.825094</td><td style=\"text-align: right;\">0.708968</td></tr>\\n<tr><td style=\"text-align: right;\">0.722333</td><td style=\"text-align: right;\">0.725289</td><td style=\"text-align: right;\">0.716629</td><td style=\"text-align: right;\">0.731705</td><td style=\"text-align: right;\">0.868909</td><td style=\"text-align: right;\">1       </td><td style=\"text-align: right;\">0.938034</td><td style=\"text-align: right;\">0.68824 </td></tr>\\n<tr><td style=\"text-align: right;\">0.727743</td><td style=\"text-align: right;\">0.736488</td><td style=\"text-align: right;\">0.720101</td><td style=\"text-align: right;\">0.739961</td><td style=\"text-align: right;\">0.825094</td><td style=\"text-align: right;\">0.938034</td><td style=\"text-align: right;\">1       </td><td style=\"text-align: right;\">0.662695</td></tr>\\n<tr><td style=\"text-align: right;\">0.715571</td><td style=\"text-align: right;\">0.710645</td><td style=\"text-align: right;\">0.687406</td><td style=\"text-align: right;\">0.703252</td><td style=\"text-align: right;\">0.708968</td><td style=\"text-align: right;\">0.68824 </td><td style=\"text-align: right;\">0.662695</td><td style=\"text-align: right;\">1       </td></tr>\\n</tbody>\\n</table>'"
      ]
     },
     "execution_count": 7,
     "metadata": {},
     "output_type": "execute_result"
    }
   ],
   "source": [
    "tabulate.tabulate(similarities, tablefmt='html')"
   ]
  },
  {
   "cell_type": "code",
   "execution_count": 8,
   "metadata": {},
   "outputs": [
    {
     "data": {
      "text/plain": [
       "array([[1.00000008, 0.96149215, 0.94552677, 0.94162567, 0.71876824, 0.72233305, 0.72774342, 0.7155715 ],\n",
       "       [0.96149215, 1.00000006, 0.96262722, 0.97577336, 0.72101817, 0.72528919, 0.73648794, 0.71064526],\n",
       "       [0.94552677, 0.96262722, 0.99999994, 0.94917746, 0.71417534, 0.71662904, 0.72010136, 0.68740636],\n",
       "       [0.94162567, 0.97577336, 0.94917746, 1.00000001, 0.7168399 , 0.73170495, 0.73996087, 0.70325232],\n",
       "       [0.71876824, 0.72101817, 0.71417534, 0.7168399 , 0.9999999 , 0.8689089 , 0.82509447, 0.70896803],\n",
       "       [0.72233305, 0.72528919, 0.71662904, 0.73170495, 0.8689089 , 0.99999996, 0.93803392, 0.68824022],\n",
       "       [0.72774342, 0.73648794, 0.72010136, 0.73996087, 0.82509447, 0.93803392, 0.99999997, 0.66269486],\n",
       "       [0.7155715 , 0.71064526, 0.68740636, 0.70325232, 0.70896803, 0.68824022, 0.66269486, 1.00000003]])"
      ]
     },
     "execution_count": 8,
     "metadata": {},
     "output_type": "execute_result"
    }
   ],
   "source": [
    "similarities  # For easier copying and pasting."
   ]
  }
 ],
 "metadata": {
  "kernelspec": {
   "display_name": "bed-vNjRVhtj",
   "language": "python",
   "name": "python3"
  },
  "language_info": {
   "codemirror_mode": {
    "name": "ipython",
    "version": 3
   },
   "file_extension": ".py",
   "mimetype": "text/x-python",
   "name": "python",
   "nbconvert_exporter": "python",
   "pygments_lexer": "ipython3",
   "version": "3.11.3"
  },
  "orig_nbformat": 4,
  "vscode": {
   "interpreter": {
    "hash": "f9569337c2404346193933531d883fa944c4a6206c7687dcf04327ceca4d7712"
   }
  }
 },
 "nbformat": 4,
 "nbformat_minor": 2
}
