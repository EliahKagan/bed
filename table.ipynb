{
 "cells": [
  {
   "attachments": {},
   "cell_type": "markdown",
   "metadata": {},
   "source": [
    "# All-pairs similarities\n",
    "\n",
    "SPDX-License-Identifier: 0BSD\n",
    "\n",
    "Multiplying a matrix whose rows are embeddings by is transpose gives a matrix whose $(i, j)$ entries are the similarities between the $i$-th and $j$-th embedding."
   ]
  },
  {
   "cell_type": "code",
   "execution_count": 1,
   "metadata": {},
   "outputs": [],
   "source": [
    "import numpy as np\n",
    "import openai.embeddings_utils\n",
    "import tabulate"
   ]
  },
  {
   "cell_type": "code",
   "execution_count": 2,
   "metadata": {},
   "outputs": [],
   "source": [
    "np.set_printoptions(linewidth=120)"
   ]
  },
  {
   "cell_type": "code",
   "execution_count": 3,
   "metadata": {},
   "outputs": [],
   "source": [
    "openai.api_key_path = '.api_key'"
   ]
  },
  {
   "cell_type": "code",
   "execution_count": 4,
   "metadata": {},
   "outputs": [],
   "source": [
    "texts = [\n",
    "    'French kissing experts',\n",
    "    'kissing French experts',\n",
    "    'experts in French kissing',\n",
    "    'kissing French people who are experts',\n",
    "    'The canine shall never perish from the earth.',\n",
    "    'Somewhere in the world, there will always be dogs.',\n",
    "    'Quelque part au monde, il y aura toujours des chiens.',\n",
    "    'The tabular data have been sequestered from the public.',\n",
    "]"
   ]
  },
  {
   "cell_type": "code",
   "execution_count": 5,
   "metadata": {},
   "outputs": [],
   "source": [
    "embeddings = openai.embeddings_utils.get_embeddings(\n",
    "    list_of_text=texts,\n",
    "    engine='text-embedding-ada-002',\n",
    ")\n",
    "matrix = np.array(embeddings)"
   ]
  },
  {
   "cell_type": "code",
   "execution_count": 6,
   "metadata": {},
   "outputs": [],
   "source": [
    "similarities = matrix @ matrix.transpose()"
   ]
  },
  {
   "cell_type": "code",
   "execution_count": 7,
   "metadata": {},
   "outputs": [
    {
     "data": {
      "text/html": [
       "<table>\n",
       "<tbody>\n",
       "<tr><td style=\"text-align: right;\">1       </td><td style=\"text-align: right;\">0.961521</td><td style=\"text-align: right;\">0.945441</td><td style=\"text-align: right;\">0.941662</td><td style=\"text-align: right;\">0.719236</td><td style=\"text-align: right;\">0.722521</td><td style=\"text-align: right;\">0.72789 </td><td style=\"text-align: right;\">0.715595</td></tr>\n",
       "<tr><td style=\"text-align: right;\">0.961521</td><td style=\"text-align: right;\">1       </td><td style=\"text-align: right;\">0.96265 </td><td style=\"text-align: right;\">0.975799</td><td style=\"text-align: right;\">0.721469</td><td style=\"text-align: right;\">0.72537 </td><td style=\"text-align: right;\">0.736499</td><td style=\"text-align: right;\">0.710595</td></tr>\n",
       "<tr><td style=\"text-align: right;\">0.945441</td><td style=\"text-align: right;\">0.96265 </td><td style=\"text-align: right;\">1       </td><td style=\"text-align: right;\">0.949059</td><td style=\"text-align: right;\">0.714348</td><td style=\"text-align: right;\">0.716647</td><td style=\"text-align: right;\">0.720003</td><td style=\"text-align: right;\">0.687236</td></tr>\n",
       "<tr><td style=\"text-align: right;\">0.941662</td><td style=\"text-align: right;\">0.975799</td><td style=\"text-align: right;\">0.949059</td><td style=\"text-align: right;\">1       </td><td style=\"text-align: right;\">0.717558</td><td style=\"text-align: right;\">0.731877</td><td style=\"text-align: right;\">0.740077</td><td style=\"text-align: right;\">0.703308</td></tr>\n",
       "<tr><td style=\"text-align: right;\">0.719236</td><td style=\"text-align: right;\">0.721469</td><td style=\"text-align: right;\">0.714348</td><td style=\"text-align: right;\">0.717558</td><td style=\"text-align: right;\">1       </td><td style=\"text-align: right;\">0.86831 </td><td style=\"text-align: right;\">0.824919</td><td style=\"text-align: right;\">0.709774</td></tr>\n",
       "<tr><td style=\"text-align: right;\">0.722521</td><td style=\"text-align: right;\">0.72537 </td><td style=\"text-align: right;\">0.716647</td><td style=\"text-align: right;\">0.731877</td><td style=\"text-align: right;\">0.86831 </td><td style=\"text-align: right;\">1       </td><td style=\"text-align: right;\">0.938066</td><td style=\"text-align: right;\">0.688226</td></tr>\n",
       "<tr><td style=\"text-align: right;\">0.72789 </td><td style=\"text-align: right;\">0.736499</td><td style=\"text-align: right;\">0.720003</td><td style=\"text-align: right;\">0.740077</td><td style=\"text-align: right;\">0.824919</td><td style=\"text-align: right;\">0.938066</td><td style=\"text-align: right;\">1       </td><td style=\"text-align: right;\">0.66264 </td></tr>\n",
       "<tr><td style=\"text-align: right;\">0.715595</td><td style=\"text-align: right;\">0.710595</td><td style=\"text-align: right;\">0.687236</td><td style=\"text-align: right;\">0.703308</td><td style=\"text-align: right;\">0.709774</td><td style=\"text-align: right;\">0.688226</td><td style=\"text-align: right;\">0.66264 </td><td style=\"text-align: right;\">1       </td></tr>\n",
       "</tbody>\n",
       "</table>"
      ],
      "text/plain": [
       "'<table>\\n<tbody>\\n<tr><td style=\"text-align: right;\">1       </td><td style=\"text-align: right;\">0.961521</td><td style=\"text-align: right;\">0.945441</td><td style=\"text-align: right;\">0.941662</td><td style=\"text-align: right;\">0.719236</td><td style=\"text-align: right;\">0.722521</td><td style=\"text-align: right;\">0.72789 </td><td style=\"text-align: right;\">0.715595</td></tr>\\n<tr><td style=\"text-align: right;\">0.961521</td><td style=\"text-align: right;\">1       </td><td style=\"text-align: right;\">0.96265 </td><td style=\"text-align: right;\">0.975799</td><td style=\"text-align: right;\">0.721469</td><td style=\"text-align: right;\">0.72537 </td><td style=\"text-align: right;\">0.736499</td><td style=\"text-align: right;\">0.710595</td></tr>\\n<tr><td style=\"text-align: right;\">0.945441</td><td style=\"text-align: right;\">0.96265 </td><td style=\"text-align: right;\">1       </td><td style=\"text-align: right;\">0.949059</td><td style=\"text-align: right;\">0.714348</td><td style=\"text-align: right;\">0.716647</td><td style=\"text-align: right;\">0.720003</td><td style=\"text-align: right;\">0.687236</td></tr>\\n<tr><td style=\"text-align: right;\">0.941662</td><td style=\"text-align: right;\">0.975799</td><td style=\"text-align: right;\">0.949059</td><td style=\"text-align: right;\">1       </td><td style=\"text-align: right;\">0.717558</td><td style=\"text-align: right;\">0.731877</td><td style=\"text-align: right;\">0.740077</td><td style=\"text-align: right;\">0.703308</td></tr>\\n<tr><td style=\"text-align: right;\">0.719236</td><td style=\"text-align: right;\">0.721469</td><td style=\"text-align: right;\">0.714348</td><td style=\"text-align: right;\">0.717558</td><td style=\"text-align: right;\">1       </td><td style=\"text-align: right;\">0.86831 </td><td style=\"text-align: right;\">0.824919</td><td style=\"text-align: right;\">0.709774</td></tr>\\n<tr><td style=\"text-align: right;\">0.722521</td><td style=\"text-align: right;\">0.72537 </td><td style=\"text-align: right;\">0.716647</td><td style=\"text-align: right;\">0.731877</td><td style=\"text-align: right;\">0.86831 </td><td style=\"text-align: right;\">1       </td><td style=\"text-align: right;\">0.938066</td><td style=\"text-align: right;\">0.688226</td></tr>\\n<tr><td style=\"text-align: right;\">0.72789 </td><td style=\"text-align: right;\">0.736499</td><td style=\"text-align: right;\">0.720003</td><td style=\"text-align: right;\">0.740077</td><td style=\"text-align: right;\">0.824919</td><td style=\"text-align: right;\">0.938066</td><td style=\"text-align: right;\">1       </td><td style=\"text-align: right;\">0.66264 </td></tr>\\n<tr><td style=\"text-align: right;\">0.715595</td><td style=\"text-align: right;\">0.710595</td><td style=\"text-align: right;\">0.687236</td><td style=\"text-align: right;\">0.703308</td><td style=\"text-align: right;\">0.709774</td><td style=\"text-align: right;\">0.688226</td><td style=\"text-align: right;\">0.66264 </td><td style=\"text-align: right;\">1       </td></tr>\\n</tbody>\\n</table>'"
      ]
     },
     "execution_count": 7,
     "metadata": {},
     "output_type": "execute_result"
    }
   ],
   "source": [
    "tabulate.tabulate(similarities, tablefmt='html')"
   ]
  },
  {
   "cell_type": "code",
   "execution_count": 8,
   "metadata": {},
   "outputs": [
    {
     "data": {
      "text/plain": [
       "array([[1.00000004, 0.96152087, 0.94544106, 0.94166225, 0.71923635, 0.72252072, 0.72789018, 0.71559537],\n",
       "       [0.96152087, 0.99999997, 0.96264961, 0.97579945, 0.72146922, 0.72537003, 0.73649916, 0.71059482],\n",
       "       [0.94544106, 0.96264961, 1.00000001, 0.94905857, 0.71434843, 0.71664702, 0.72000281, 0.68723575],\n",
       "       [0.94166225, 0.97579945, 0.94905857, 1.00000004, 0.71755806, 0.73187736, 0.74007661, 0.7033079 ],\n",
       "       [0.71923635, 0.72146922, 0.71434843, 0.71755806, 1.00000007, 0.86830977, 0.82491891, 0.70977357],\n",
       "       [0.72252072, 0.72537003, 0.71664702, 0.73187736, 0.86830977, 0.99999994, 0.93806589, 0.68822558],\n",
       "       [0.72789018, 0.73649916, 0.72000281, 0.74007661, 0.82491891, 0.93806589, 0.99999992, 0.66263953],\n",
       "       [0.71559537, 0.71059482, 0.68723575, 0.7033079 , 0.70977357, 0.68822558, 0.66263953, 0.99999999]])"
      ]
     },
     "execution_count": 8,
     "metadata": {},
     "output_type": "execute_result"
    }
   ],
   "source": [
    "similarities  # For easier copying and pasting."
   ]
  }
 ],
 "metadata": {
  "kernelspec": {
   "display_name": "bed-vNjRVhtj",
   "language": "python",
   "name": "python3"
  },
  "language_info": {
   "codemirror_mode": {
    "name": "ipython",
    "version": 3
   },
   "file_extension": ".py",
   "mimetype": "text/x-python",
   "name": "python",
   "nbconvert_exporter": "python",
   "pygments_lexer": "ipython3",
   "version": "3.11.4"
  },
  "orig_nbformat": 4,
  "vscode": {
   "interpreter": {
    "hash": "f9569337c2404346193933531d883fa944c4a6206c7687dcf04327ceca4d7712"
   }
  }
 },
 "nbformat": 4,
 "nbformat_minor": 2
}
