{
 "cells": [
  {
   "attachments": {},
   "cell_type": "markdown",
   "metadata": {},
   "source": [
    "# All-pairs similarities\n",
    "\n",
    "SPDX-License-Identifier: 0BSD\n",
    "\n",
    "Multiplying a matrix whose rows are embeddings by is transpose gives a matrix whose $(i, j)$ entries are the similarities between the $i$-th and $j$-th embedding."
   ]
  },
  {
   "cell_type": "code",
   "execution_count": 1,
   "metadata": {},
   "outputs": [],
   "source": [
    "import numpy as np\n",
    "import openai.embeddings_utils\n",
    "import tabulate"
   ]
  },
  {
   "cell_type": "code",
   "execution_count": 2,
   "metadata": {},
   "outputs": [],
   "source": [
    "np.set_printoptions(linewidth=120)"
   ]
  },
  {
   "cell_type": "code",
   "execution_count": 3,
   "metadata": {},
   "outputs": [],
   "source": [
    "openai.api_key_path = '.api_key'"
   ]
  },
  {
   "cell_type": "code",
   "execution_count": 4,
   "metadata": {},
   "outputs": [],
   "source": [
    "texts = [\n",
    "    'French kissing experts',\n",
    "    'kissing French experts',\n",
    "    'experts in French kissing',\n",
    "    'kissing French people who are experts',\n",
    "    'The canine shall never perish from the earth.',\n",
    "    'Somewhere in the world, there will always be dogs.',\n",
    "    'Quelque part au monde, il y aura toujours des chiens.',\n",
    "    'The tabular data have been sequestered from the public.',\n",
    "]"
   ]
  },
  {
   "cell_type": "code",
   "execution_count": 5,
   "metadata": {},
   "outputs": [],
   "source": [
    "embeddings = openai.embeddings_utils.get_embeddings(\n",
    "    list_of_text=texts,\n",
    "    engine='text-embedding-ada-002',\n",
    ")\n",
    "matrix = np.array(embeddings)"
   ]
  },
  {
   "cell_type": "code",
   "execution_count": 6,
   "metadata": {},
   "outputs": [],
   "source": [
    "similarities = matrix @ matrix.transpose()"
   ]
  },
  {
   "cell_type": "code",
   "execution_count": 7,
   "metadata": {},
   "outputs": [
    {
     "data": {
      "text/html": [
       "<table>\n",
       "<tbody>\n",
       "<tr><td style=\"text-align: right;\">1       </td><td style=\"text-align: right;\">0.96145 </td><td style=\"text-align: right;\">0.945449</td><td style=\"text-align: right;\">0.941631</td><td style=\"text-align: right;\">0.719258</td><td style=\"text-align: right;\">0.722507</td><td style=\"text-align: right;\">0.727874</td><td style=\"text-align: right;\">0.715571</td></tr>\n",
       "<tr><td style=\"text-align: right;\">0.96145 </td><td style=\"text-align: right;\">1       </td><td style=\"text-align: right;\">0.962644</td><td style=\"text-align: right;\">0.975816</td><td style=\"text-align: right;\">0.721417</td><td style=\"text-align: right;\">0.725247</td><td style=\"text-align: right;\">0.736398</td><td style=\"text-align: right;\">0.710534</td></tr>\n",
       "<tr><td style=\"text-align: right;\">0.945449</td><td style=\"text-align: right;\">0.962644</td><td style=\"text-align: right;\">1       </td><td style=\"text-align: right;\">0.949081</td><td style=\"text-align: right;\">0.71438 </td><td style=\"text-align: right;\">0.716647</td><td style=\"text-align: right;\">0.720001</td><td style=\"text-align: right;\">0.687278</td></tr>\n",
       "<tr><td style=\"text-align: right;\">0.941631</td><td style=\"text-align: right;\">0.975816</td><td style=\"text-align: right;\">0.949081</td><td style=\"text-align: right;\">1       </td><td style=\"text-align: right;\">0.717578</td><td style=\"text-align: right;\">0.731879</td><td style=\"text-align: right;\">0.740077</td><td style=\"text-align: right;\">0.703308</td></tr>\n",
       "<tr><td style=\"text-align: right;\">0.719258</td><td style=\"text-align: right;\">0.721417</td><td style=\"text-align: right;\">0.71438 </td><td style=\"text-align: right;\">0.717578</td><td style=\"text-align: right;\">1       </td><td style=\"text-align: right;\">0.868313</td><td style=\"text-align: right;\">0.824918</td><td style=\"text-align: right;\">0.709783</td></tr>\n",
       "<tr><td style=\"text-align: right;\">0.722507</td><td style=\"text-align: right;\">0.725247</td><td style=\"text-align: right;\">0.716647</td><td style=\"text-align: right;\">0.731879</td><td style=\"text-align: right;\">0.868313</td><td style=\"text-align: right;\">1       </td><td style=\"text-align: right;\">0.938079</td><td style=\"text-align: right;\">0.688226</td></tr>\n",
       "<tr><td style=\"text-align: right;\">0.727874</td><td style=\"text-align: right;\">0.736398</td><td style=\"text-align: right;\">0.720001</td><td style=\"text-align: right;\">0.740077</td><td style=\"text-align: right;\">0.824918</td><td style=\"text-align: right;\">0.938079</td><td style=\"text-align: right;\">1       </td><td style=\"text-align: right;\">0.66264 </td></tr>\n",
       "<tr><td style=\"text-align: right;\">0.715571</td><td style=\"text-align: right;\">0.710534</td><td style=\"text-align: right;\">0.687278</td><td style=\"text-align: right;\">0.703308</td><td style=\"text-align: right;\">0.709783</td><td style=\"text-align: right;\">0.688226</td><td style=\"text-align: right;\">0.66264 </td><td style=\"text-align: right;\">1       </td></tr>\n",
       "</tbody>\n",
       "</table>"
      ],
      "text/plain": [
       "'<table>\\n<tbody>\\n<tr><td style=\"text-align: right;\">1       </td><td style=\"text-align: right;\">0.96145 </td><td style=\"text-align: right;\">0.945449</td><td style=\"text-align: right;\">0.941631</td><td style=\"text-align: right;\">0.719258</td><td style=\"text-align: right;\">0.722507</td><td style=\"text-align: right;\">0.727874</td><td style=\"text-align: right;\">0.715571</td></tr>\\n<tr><td style=\"text-align: right;\">0.96145 </td><td style=\"text-align: right;\">1       </td><td style=\"text-align: right;\">0.962644</td><td style=\"text-align: right;\">0.975816</td><td style=\"text-align: right;\">0.721417</td><td style=\"text-align: right;\">0.725247</td><td style=\"text-align: right;\">0.736398</td><td style=\"text-align: right;\">0.710534</td></tr>\\n<tr><td style=\"text-align: right;\">0.945449</td><td style=\"text-align: right;\">0.962644</td><td style=\"text-align: right;\">1       </td><td style=\"text-align: right;\">0.949081</td><td style=\"text-align: right;\">0.71438 </td><td style=\"text-align: right;\">0.716647</td><td style=\"text-align: right;\">0.720001</td><td style=\"text-align: right;\">0.687278</td></tr>\\n<tr><td style=\"text-align: right;\">0.941631</td><td style=\"text-align: right;\">0.975816</td><td style=\"text-align: right;\">0.949081</td><td style=\"text-align: right;\">1       </td><td style=\"text-align: right;\">0.717578</td><td style=\"text-align: right;\">0.731879</td><td style=\"text-align: right;\">0.740077</td><td style=\"text-align: right;\">0.703308</td></tr>\\n<tr><td style=\"text-align: right;\">0.719258</td><td style=\"text-align: right;\">0.721417</td><td style=\"text-align: right;\">0.71438 </td><td style=\"text-align: right;\">0.717578</td><td style=\"text-align: right;\">1       </td><td style=\"text-align: right;\">0.868313</td><td style=\"text-align: right;\">0.824918</td><td style=\"text-align: right;\">0.709783</td></tr>\\n<tr><td style=\"text-align: right;\">0.722507</td><td style=\"text-align: right;\">0.725247</td><td style=\"text-align: right;\">0.716647</td><td style=\"text-align: right;\">0.731879</td><td style=\"text-align: right;\">0.868313</td><td style=\"text-align: right;\">1       </td><td style=\"text-align: right;\">0.938079</td><td style=\"text-align: right;\">0.688226</td></tr>\\n<tr><td style=\"text-align: right;\">0.727874</td><td style=\"text-align: right;\">0.736398</td><td style=\"text-align: right;\">0.720001</td><td style=\"text-align: right;\">0.740077</td><td style=\"text-align: right;\">0.824918</td><td style=\"text-align: right;\">0.938079</td><td style=\"text-align: right;\">1       </td><td style=\"text-align: right;\">0.66264 </td></tr>\\n<tr><td style=\"text-align: right;\">0.715571</td><td style=\"text-align: right;\">0.710534</td><td style=\"text-align: right;\">0.687278</td><td style=\"text-align: right;\">0.703308</td><td style=\"text-align: right;\">0.709783</td><td style=\"text-align: right;\">0.688226</td><td style=\"text-align: right;\">0.66264 </td><td style=\"text-align: right;\">1       </td></tr>\\n</tbody>\\n</table>'"
      ]
     },
     "execution_count": 7,
     "metadata": {},
     "output_type": "execute_result"
    }
   ],
   "source": [
    "tabulate.tabulate(similarities, tablefmt='html')"
   ]
  },
  {
   "cell_type": "code",
   "execution_count": 8,
   "metadata": {},
   "outputs": [
    {
     "data": {
      "text/plain": [
       "array([[0.99999991, 0.96144969, 0.9454494 , 0.94163079, 0.71925837, 0.72250736, 0.72787397, 0.71557135],\n",
       "       [0.96144969, 1.        , 0.96264444, 0.97581551, 0.72141712, 0.72524659, 0.73639836, 0.71053379],\n",
       "       [0.9454494 , 0.96264444, 1.00000007, 0.94908145, 0.71438011, 0.71664666, 0.72000093, 0.68727793],\n",
       "       [0.94163079, 0.97581551, 0.94908145, 1.00000004, 0.71757824, 0.73187853, 0.74007661, 0.7033079 ],\n",
       "       [0.71925837, 0.72141712, 0.71438011, 0.71757824, 1.00000006, 0.86831257, 0.82491844, 0.70978253],\n",
       "       [0.72250736, 0.72524659, 0.71664666, 0.73187853, 0.86831257, 1.00000012, 0.9380792 , 0.68822555],\n",
       "       [0.72787397, 0.73639836, 0.72000093, 0.74007661, 0.82491844, 0.9380792 , 0.99999992, 0.66263953],\n",
       "       [0.71557135, 0.71053379, 0.68727793, 0.7033079 , 0.70978253, 0.68822555, 0.66263953, 0.99999999]])"
      ]
     },
     "execution_count": 8,
     "metadata": {},
     "output_type": "execute_result"
    }
   ],
   "source": [
    "similarities  # For easier copying and pasting."
   ]
  }
 ],
 "metadata": {
  "kernelspec": {
   "display_name": "bed-vNjRVhtj",
   "language": "python",
   "name": "python3"
  },
  "language_info": {
   "codemirror_mode": {
    "name": "ipython",
    "version": 3
   },
   "file_extension": ".py",
   "mimetype": "text/x-python",
   "name": "python",
   "nbconvert_exporter": "python",
   "pygments_lexer": "ipython3",
   "version": "3.11.4"
  },
  "orig_nbformat": 4,
  "vscode": {
   "interpreter": {
    "hash": "f9569337c2404346193933531d883fa944c4a6206c7687dcf04327ceca4d7712"
   }
  }
 },
 "nbformat": 4,
 "nbformat_minor": 2
}
