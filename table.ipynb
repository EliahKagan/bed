{
 "cells": [
  {
   "attachments": {},
   "cell_type": "markdown",
   "metadata": {},
   "source": [
    "# All-pairs similarities\n",
    "\n",
    "SPDX-License-Identifier: 0BSD\n",
    "\n",
    "Multiplying a matrix whose rows are embeddings by is transpose gives a matrix whose $(i, j)$ entries are the similarities between the $i$-th and $j$-th embedding."
   ]
  },
  {
   "cell_type": "code",
   "execution_count": 1,
   "metadata": {},
   "outputs": [],
   "source": [
    "import numpy as np\n",
    "import openai.embeddings_utils\n",
    "import tabulate"
   ]
  },
  {
   "cell_type": "code",
   "execution_count": 2,
   "metadata": {},
   "outputs": [],
   "source": [
    "np.set_printoptions(linewidth=120)"
   ]
  },
  {
   "cell_type": "code",
   "execution_count": 3,
   "metadata": {},
   "outputs": [],
   "source": [
    "openai.api_key_path = '.api_key'"
   ]
  },
  {
   "cell_type": "code",
   "execution_count": 4,
   "metadata": {},
   "outputs": [],
   "source": [
    "texts = [\n",
    "    'French kissing experts',\n",
    "    'kissing French experts',\n",
    "    'experts in French kissing',\n",
    "    'kissing French people who are experts',\n",
    "    'The canine shall never perish from the earth.',\n",
    "    'Somewhere in the world, there will always be dogs.',\n",
    "    'Quelque part au monde, il y aura toujours des chiens.',\n",
    "    'The tabular data have been sequestered from the public.',\n",
    "]"
   ]
  },
  {
   "cell_type": "code",
   "execution_count": 5,
   "metadata": {},
   "outputs": [],
   "source": [
    "embeddings = openai.embeddings_utils.get_embeddings(\n",
    "    list_of_text=texts,\n",
    "    engine='text-embedding-ada-002',\n",
    ")\n",
    "matrix = np.array(embeddings)"
   ]
  },
  {
   "cell_type": "code",
   "execution_count": 6,
   "metadata": {},
   "outputs": [],
   "source": [
    "similarities = matrix @ matrix.transpose()"
   ]
  },
  {
   "cell_type": "code",
   "execution_count": 7,
   "metadata": {},
   "outputs": [
    {
     "data": {
      "text/html": [
       "<table>\n",
       "<tbody>\n",
       "<tr><td style=\"text-align: right;\">1       </td><td style=\"text-align: right;\">0.961609</td><td style=\"text-align: right;\">0.945566</td><td style=\"text-align: right;\">0.941781</td><td style=\"text-align: right;\">0.718858</td><td style=\"text-align: right;\">0.722486</td><td style=\"text-align: right;\">0.727811</td><td style=\"text-align: right;\">0.715597</td></tr>\n",
       "<tr><td style=\"text-align: right;\">0.961609</td><td style=\"text-align: right;\">1       </td><td style=\"text-align: right;\">0.962623</td><td style=\"text-align: right;\">0.97582 </td><td style=\"text-align: right;\">0.721072</td><td style=\"text-align: right;\">0.725416</td><td style=\"text-align: right;\">0.736522</td><td style=\"text-align: right;\">0.710692</td></tr>\n",
       "<tr><td style=\"text-align: right;\">0.945566</td><td style=\"text-align: right;\">0.962623</td><td style=\"text-align: right;\">1       </td><td style=\"text-align: right;\">0.949156</td><td style=\"text-align: right;\">0.7141  </td><td style=\"text-align: right;\">0.716647</td><td style=\"text-align: right;\">0.719946</td><td style=\"text-align: right;\">0.687278</td></tr>\n",
       "<tr><td style=\"text-align: right;\">0.941781</td><td style=\"text-align: right;\">0.97582 </td><td style=\"text-align: right;\">0.949156</td><td style=\"text-align: right;\">1       </td><td style=\"text-align: right;\">0.716975</td><td style=\"text-align: right;\">0.731926</td><td style=\"text-align: right;\">0.740019</td><td style=\"text-align: right;\">0.703325</td></tr>\n",
       "<tr><td style=\"text-align: right;\">0.718858</td><td style=\"text-align: right;\">0.721072</td><td style=\"text-align: right;\">0.7141  </td><td style=\"text-align: right;\">0.716975</td><td style=\"text-align: right;\">1       </td><td style=\"text-align: right;\">0.86895 </td><td style=\"text-align: right;\">0.825072</td><td style=\"text-align: right;\">0.708876</td></tr>\n",
       "<tr><td style=\"text-align: right;\">0.722486</td><td style=\"text-align: right;\">0.725416</td><td style=\"text-align: right;\">0.716647</td><td style=\"text-align: right;\">0.731926</td><td style=\"text-align: right;\">0.86895 </td><td style=\"text-align: right;\">1       </td><td style=\"text-align: right;\">0.938058</td><td style=\"text-align: right;\">0.688226</td></tr>\n",
       "<tr><td style=\"text-align: right;\">0.727811</td><td style=\"text-align: right;\">0.736522</td><td style=\"text-align: right;\">0.719946</td><td style=\"text-align: right;\">0.740019</td><td style=\"text-align: right;\">0.825072</td><td style=\"text-align: right;\">0.938058</td><td style=\"text-align: right;\">1       </td><td style=\"text-align: right;\">0.662582</td></tr>\n",
       "<tr><td style=\"text-align: right;\">0.715597</td><td style=\"text-align: right;\">0.710692</td><td style=\"text-align: right;\">0.687278</td><td style=\"text-align: right;\">0.703325</td><td style=\"text-align: right;\">0.708876</td><td style=\"text-align: right;\">0.688226</td><td style=\"text-align: right;\">0.662582</td><td style=\"text-align: right;\">1       </td></tr>\n",
       "</tbody>\n",
       "</table>"
      ],
      "text/plain": [
       "'<table>\\n<tbody>\\n<tr><td style=\"text-align: right;\">1       </td><td style=\"text-align: right;\">0.961609</td><td style=\"text-align: right;\">0.945566</td><td style=\"text-align: right;\">0.941781</td><td style=\"text-align: right;\">0.718858</td><td style=\"text-align: right;\">0.722486</td><td style=\"text-align: right;\">0.727811</td><td style=\"text-align: right;\">0.715597</td></tr>\\n<tr><td style=\"text-align: right;\">0.961609</td><td style=\"text-align: right;\">1       </td><td style=\"text-align: right;\">0.962623</td><td style=\"text-align: right;\">0.97582 </td><td style=\"text-align: right;\">0.721072</td><td style=\"text-align: right;\">0.725416</td><td style=\"text-align: right;\">0.736522</td><td style=\"text-align: right;\">0.710692</td></tr>\\n<tr><td style=\"text-align: right;\">0.945566</td><td style=\"text-align: right;\">0.962623</td><td style=\"text-align: right;\">1       </td><td style=\"text-align: right;\">0.949156</td><td style=\"text-align: right;\">0.7141  </td><td style=\"text-align: right;\">0.716647</td><td style=\"text-align: right;\">0.719946</td><td style=\"text-align: right;\">0.687278</td></tr>\\n<tr><td style=\"text-align: right;\">0.941781</td><td style=\"text-align: right;\">0.97582 </td><td style=\"text-align: right;\">0.949156</td><td style=\"text-align: right;\">1       </td><td style=\"text-align: right;\">0.716975</td><td style=\"text-align: right;\">0.731926</td><td style=\"text-align: right;\">0.740019</td><td style=\"text-align: right;\">0.703325</td></tr>\\n<tr><td style=\"text-align: right;\">0.718858</td><td style=\"text-align: right;\">0.721072</td><td style=\"text-align: right;\">0.7141  </td><td style=\"text-align: right;\">0.716975</td><td style=\"text-align: right;\">1       </td><td style=\"text-align: right;\">0.86895 </td><td style=\"text-align: right;\">0.825072</td><td style=\"text-align: right;\">0.708876</td></tr>\\n<tr><td style=\"text-align: right;\">0.722486</td><td style=\"text-align: right;\">0.725416</td><td style=\"text-align: right;\">0.716647</td><td style=\"text-align: right;\">0.731926</td><td style=\"text-align: right;\">0.86895 </td><td style=\"text-align: right;\">1       </td><td style=\"text-align: right;\">0.938058</td><td style=\"text-align: right;\">0.688226</td></tr>\\n<tr><td style=\"text-align: right;\">0.727811</td><td style=\"text-align: right;\">0.736522</td><td style=\"text-align: right;\">0.719946</td><td style=\"text-align: right;\">0.740019</td><td style=\"text-align: right;\">0.825072</td><td style=\"text-align: right;\">0.938058</td><td style=\"text-align: right;\">1       </td><td style=\"text-align: right;\">0.662582</td></tr>\\n<tr><td style=\"text-align: right;\">0.715597</td><td style=\"text-align: right;\">0.710692</td><td style=\"text-align: right;\">0.687278</td><td style=\"text-align: right;\">0.703325</td><td style=\"text-align: right;\">0.708876</td><td style=\"text-align: right;\">0.688226</td><td style=\"text-align: right;\">0.662582</td><td style=\"text-align: right;\">1       </td></tr>\\n</tbody>\\n</table>'"
      ]
     },
     "execution_count": 7,
     "metadata": {},
     "output_type": "execute_result"
    }
   ],
   "source": [
    "tabulate.tabulate(similarities, tablefmt='html')"
   ]
  },
  {
   "cell_type": "code",
   "execution_count": 8,
   "metadata": {},
   "outputs": [
    {
     "data": {
      "text/plain": [
       "array([[1.00000002, 0.96160884, 0.94556616, 0.94178065, 0.71885809, 0.72248574, 0.7278107 , 0.71559711],\n",
       "       [0.96160884, 1.00000008, 0.96262257, 0.97582037, 0.72107199, 0.72541594, 0.73652205, 0.71069219],\n",
       "       [0.94556616, 0.96262257, 1.00000007, 0.94915552, 0.71409959, 0.71664666, 0.71994564, 0.68727793],\n",
       "       [0.94178065, 0.97582037, 0.94915552, 0.99999999, 0.71697541, 0.73192633, 0.74001865, 0.70332464],\n",
       "       [0.71885809, 0.72107199, 0.71409959, 0.71697541, 0.99999993, 0.86894961, 0.82507244, 0.70887587],\n",
       "       [0.72248574, 0.72541594, 0.71664666, 0.73192633, 0.86894961, 1.00000012, 0.93805812, 0.68822555],\n",
       "       [0.7278107 , 0.73652205, 0.71994564, 0.74001865, 0.82507244, 0.93805812, 1.00000007, 0.66258191],\n",
       "       [0.71559711, 0.71069219, 0.68727793, 0.70332464, 0.70887587, 0.68822555, 0.66258191, 0.99999999]])"
      ]
     },
     "execution_count": 8,
     "metadata": {},
     "output_type": "execute_result"
    }
   ],
   "source": [
    "similarities  # For easier copying and pasting."
   ]
  }
 ],
 "metadata": {
  "kernelspec": {
   "display_name": "bed-vNjRVhtj",
   "language": "python",
   "name": "python3"
  },
  "language_info": {
   "codemirror_mode": {
    "name": "ipython",
    "version": 3
   },
   "file_extension": ".py",
   "mimetype": "text/x-python",
   "name": "python",
   "nbconvert_exporter": "python",
   "pygments_lexer": "ipython3",
   "version": "3.11.4"
  },
  "orig_nbformat": 4,
  "vscode": {
   "interpreter": {
    "hash": "f9569337c2404346193933531d883fa944c4a6206c7687dcf04327ceca4d7712"
   }
  }
 },
 "nbformat": 4,
 "nbformat_minor": 2
}
