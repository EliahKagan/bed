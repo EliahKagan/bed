{
 "cells": [
  {
   "attachments": {},
   "cell_type": "markdown",
   "metadata": {},
   "source": [
    "# All-pairs similarities\n",
    "\n",
    "SPDX-License-Identifier: 0BSD\n",
    "\n",
    "Multiplying a matrix whose rows are embeddings by is transpose gives a matrix whose $(i, j)$ entries are the similarities between the $i$-th and $j$-th embedding."
   ]
  },
  {
   "cell_type": "code",
   "execution_count": 1,
   "metadata": {},
   "outputs": [],
   "source": [
    "import numpy as np\n",
    "import openai.embeddings_utils\n",
    "import tabulate"
   ]
  },
  {
   "cell_type": "code",
   "execution_count": 2,
   "metadata": {},
   "outputs": [],
   "source": [
    "np.set_printoptions(linewidth=120)"
   ]
  },
  {
   "cell_type": "code",
   "execution_count": 3,
   "metadata": {},
   "outputs": [],
   "source": [
    "openai.api_key_path = '.api_key'"
   ]
  },
  {
   "cell_type": "code",
   "execution_count": 4,
   "metadata": {},
   "outputs": [],
   "source": [
    "texts = [\n",
    "    'French kissing experts',\n",
    "    'kissing French experts',\n",
    "    'experts in French kissing',\n",
    "    'kissing French people who are experts',\n",
    "    'The canine shall never perish from the earth.',\n",
    "    'Somewhere in the world, there will always be dogs.',\n",
    "    'Quelque part au monde, il y aura toujours des chiens.',\n",
    "    'The tabular data have been sequestered from the public.',\n",
    "]"
   ]
  },
  {
   "cell_type": "code",
   "execution_count": 5,
   "metadata": {},
   "outputs": [],
   "source": [
    "embeddings = openai.embeddings_utils.get_embeddings(\n",
    "    list_of_text=texts,\n",
    "    engine='text-embedding-ada-002',\n",
    ")\n",
    "matrix = np.array(embeddings)"
   ]
  },
  {
   "cell_type": "code",
   "execution_count": 6,
   "metadata": {},
   "outputs": [],
   "source": [
    "similarities = matrix @ matrix.transpose()"
   ]
  },
  {
   "cell_type": "code",
   "execution_count": 7,
   "metadata": {},
   "outputs": [
    {
     "data": {
      "text/html": [
       "<table>\n",
       "<tbody>\n",
       "<tr><td style=\"text-align: right;\">1       </td><td style=\"text-align: right;\">0.961477</td><td style=\"text-align: right;\">0.945535</td><td style=\"text-align: right;\">0.941639</td><td style=\"text-align: right;\">0.718698</td><td style=\"text-align: right;\">0.722438</td><td style=\"text-align: right;\">0.727648</td><td style=\"text-align: right;\">0.715504</td></tr>\n",
       "<tr><td style=\"text-align: right;\">0.961477</td><td style=\"text-align: right;\">1       </td><td style=\"text-align: right;\">0.962624</td><td style=\"text-align: right;\">0.975845</td><td style=\"text-align: right;\">0.720959</td><td style=\"text-align: right;\">0.72538 </td><td style=\"text-align: right;\">0.736342</td><td style=\"text-align: right;\">0.710596</td></tr>\n",
       "<tr><td style=\"text-align: right;\">0.945535</td><td style=\"text-align: right;\">0.962624</td><td style=\"text-align: right;\">1       </td><td style=\"text-align: right;\">0.94911 </td><td style=\"text-align: right;\">0.714165</td><td style=\"text-align: right;\">0.716815</td><td style=\"text-align: right;\">0.719994</td><td style=\"text-align: right;\">0.687382</td></tr>\n",
       "<tr><td style=\"text-align: right;\">0.941639</td><td style=\"text-align: right;\">0.975845</td><td style=\"text-align: right;\">0.94911 </td><td style=\"text-align: right;\">1       </td><td style=\"text-align: right;\">0.716895</td><td style=\"text-align: right;\">0.731919</td><td style=\"text-align: right;\">0.739991</td><td style=\"text-align: right;\">0.70326 </td></tr>\n",
       "<tr><td style=\"text-align: right;\">0.718698</td><td style=\"text-align: right;\">0.720959</td><td style=\"text-align: right;\">0.714165</td><td style=\"text-align: right;\">0.716895</td><td style=\"text-align: right;\">1       </td><td style=\"text-align: right;\">0.868896</td><td style=\"text-align: right;\">0.825013</td><td style=\"text-align: right;\">0.708881</td></tr>\n",
       "<tr><td style=\"text-align: right;\">0.722438</td><td style=\"text-align: right;\">0.72538 </td><td style=\"text-align: right;\">0.716815</td><td style=\"text-align: right;\">0.731919</td><td style=\"text-align: right;\">0.868896</td><td style=\"text-align: right;\">1       </td><td style=\"text-align: right;\">0.938068</td><td style=\"text-align: right;\">0.688317</td></tr>\n",
       "<tr><td style=\"text-align: right;\">0.727648</td><td style=\"text-align: right;\">0.736342</td><td style=\"text-align: right;\">0.719994</td><td style=\"text-align: right;\">0.739991</td><td style=\"text-align: right;\">0.825013</td><td style=\"text-align: right;\">0.938068</td><td style=\"text-align: right;\">1       </td><td style=\"text-align: right;\">0.662554</td></tr>\n",
       "<tr><td style=\"text-align: right;\">0.715504</td><td style=\"text-align: right;\">0.710596</td><td style=\"text-align: right;\">0.687382</td><td style=\"text-align: right;\">0.70326 </td><td style=\"text-align: right;\">0.708881</td><td style=\"text-align: right;\">0.688317</td><td style=\"text-align: right;\">0.662554</td><td style=\"text-align: right;\">1       </td></tr>\n",
       "</tbody>\n",
       "</table>"
      ],
      "text/plain": [
       "'<table>\\n<tbody>\\n<tr><td style=\"text-align: right;\">1       </td><td style=\"text-align: right;\">0.961477</td><td style=\"text-align: right;\">0.945535</td><td style=\"text-align: right;\">0.941639</td><td style=\"text-align: right;\">0.718698</td><td style=\"text-align: right;\">0.722438</td><td style=\"text-align: right;\">0.727648</td><td style=\"text-align: right;\">0.715504</td></tr>\\n<tr><td style=\"text-align: right;\">0.961477</td><td style=\"text-align: right;\">1       </td><td style=\"text-align: right;\">0.962624</td><td style=\"text-align: right;\">0.975845</td><td style=\"text-align: right;\">0.720959</td><td style=\"text-align: right;\">0.72538 </td><td style=\"text-align: right;\">0.736342</td><td style=\"text-align: right;\">0.710596</td></tr>\\n<tr><td style=\"text-align: right;\">0.945535</td><td style=\"text-align: right;\">0.962624</td><td style=\"text-align: right;\">1       </td><td style=\"text-align: right;\">0.94911 </td><td style=\"text-align: right;\">0.714165</td><td style=\"text-align: right;\">0.716815</td><td style=\"text-align: right;\">0.719994</td><td style=\"text-align: right;\">0.687382</td></tr>\\n<tr><td style=\"text-align: right;\">0.941639</td><td style=\"text-align: right;\">0.975845</td><td style=\"text-align: right;\">0.94911 </td><td style=\"text-align: right;\">1       </td><td style=\"text-align: right;\">0.716895</td><td style=\"text-align: right;\">0.731919</td><td style=\"text-align: right;\">0.739991</td><td style=\"text-align: right;\">0.70326 </td></tr>\\n<tr><td style=\"text-align: right;\">0.718698</td><td style=\"text-align: right;\">0.720959</td><td style=\"text-align: right;\">0.714165</td><td style=\"text-align: right;\">0.716895</td><td style=\"text-align: right;\">1       </td><td style=\"text-align: right;\">0.868896</td><td style=\"text-align: right;\">0.825013</td><td style=\"text-align: right;\">0.708881</td></tr>\\n<tr><td style=\"text-align: right;\">0.722438</td><td style=\"text-align: right;\">0.72538 </td><td style=\"text-align: right;\">0.716815</td><td style=\"text-align: right;\">0.731919</td><td style=\"text-align: right;\">0.868896</td><td style=\"text-align: right;\">1       </td><td style=\"text-align: right;\">0.938068</td><td style=\"text-align: right;\">0.688317</td></tr>\\n<tr><td style=\"text-align: right;\">0.727648</td><td style=\"text-align: right;\">0.736342</td><td style=\"text-align: right;\">0.719994</td><td style=\"text-align: right;\">0.739991</td><td style=\"text-align: right;\">0.825013</td><td style=\"text-align: right;\">0.938068</td><td style=\"text-align: right;\">1       </td><td style=\"text-align: right;\">0.662554</td></tr>\\n<tr><td style=\"text-align: right;\">0.715504</td><td style=\"text-align: right;\">0.710596</td><td style=\"text-align: right;\">0.687382</td><td style=\"text-align: right;\">0.70326 </td><td style=\"text-align: right;\">0.708881</td><td style=\"text-align: right;\">0.688317</td><td style=\"text-align: right;\">0.662554</td><td style=\"text-align: right;\">1       </td></tr>\\n</tbody>\\n</table>'"
      ]
     },
     "execution_count": 7,
     "metadata": {},
     "output_type": "execute_result"
    }
   ],
   "source": [
    "tabulate.tabulate(similarities, tablefmt='html')"
   ]
  },
  {
   "cell_type": "code",
   "execution_count": 8,
   "metadata": {},
   "outputs": [
    {
     "data": {
      "text/plain": [
       "array([[1.00000008, 0.9614774 , 0.9455347 , 0.94163869, 0.71869754, 0.7224375 , 0.72764821, 0.71550396],\n",
       "       [0.9614774 , 0.99999997, 0.96262381, 0.97584519, 0.72095884, 0.72538017, 0.73634211, 0.71059634],\n",
       "       [0.9455347 , 0.96262381, 0.99999987, 0.94911012, 0.71416484, 0.71681535, 0.7199944 , 0.68738214],\n",
       "       [0.94163869, 0.97584519, 0.94911012, 1.00000014, 0.71689473, 0.73191934, 0.73999113, 0.70325957],\n",
       "       [0.71869754, 0.72095884, 0.71416484, 0.71689473, 0.99999995, 0.86889596, 0.82501348, 0.70888056],\n",
       "       [0.7224375 , 0.72538017, 0.71681535, 0.73191934, 0.86889596, 1.00000006, 0.93806785, 0.68831668],\n",
       "       [0.72764821, 0.73634211, 0.7199944 , 0.73999113, 0.82501348, 0.93806785, 0.99999998, 0.66255404],\n",
       "       [0.71550396, 0.71059634, 0.68738214, 0.70325957, 0.70888056, 0.68831668, 0.66255404, 1.00000004]])"
      ]
     },
     "execution_count": 8,
     "metadata": {},
     "output_type": "execute_result"
    }
   ],
   "source": [
    "similarities  # For easier copying and pasting."
   ]
  }
 ],
 "metadata": {
  "kernelspec": {
   "display_name": "bed-vNjRVhtj",
   "language": "python",
   "name": "python3"
  },
  "language_info": {
   "codemirror_mode": {
    "name": "ipython",
    "version": 3
   },
   "file_extension": ".py",
   "mimetype": "text/x-python",
   "name": "python",
   "nbconvert_exporter": "python",
   "pygments_lexer": "ipython3",
   "version": "3.11.3"
  },
  "orig_nbformat": 4,
  "vscode": {
   "interpreter": {
    "hash": "f9569337c2404346193933531d883fa944c4a6206c7687dcf04327ceca4d7712"
   }
  }
 },
 "nbformat": 4,
 "nbformat_minor": 2
}
