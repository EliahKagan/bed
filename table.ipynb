{
 "cells": [
  {
   "attachments": {},
   "cell_type": "markdown",
   "metadata": {},
   "source": [
    "# All-pairs similarities\n",
    "\n",
    "SPDX-License-Identifier: 0BSD\n",
    "\n",
    "Multiplying a matrix whose rows are embeddings by is transpose gives a matrix whose $(i, j)$ entries are the similarities between the $i$-th and $j$-th embedding."
   ]
  },
  {
   "cell_type": "code",
   "execution_count": 1,
   "metadata": {},
   "outputs": [],
   "source": [
    "import numpy as np\n",
    "import openai.embeddings_utils\n",
    "import tabulate"
   ]
  },
  {
   "cell_type": "code",
   "execution_count": 2,
   "metadata": {},
   "outputs": [],
   "source": [
    "np.set_printoptions(linewidth=120)"
   ]
  },
  {
   "cell_type": "code",
   "execution_count": 3,
   "metadata": {},
   "outputs": [],
   "source": [
    "openai.api_key_path = '.api_key'"
   ]
  },
  {
   "cell_type": "code",
   "execution_count": 4,
   "metadata": {},
   "outputs": [],
   "source": [
    "texts = [\n",
    "    'French kissing experts',\n",
    "    'kissing French experts',\n",
    "    'experts in French kissing',\n",
    "    'kissing French people who are experts',\n",
    "    'The canine shall never perish from the earth.',\n",
    "    'Somewhere in the world, there will always be dogs.',\n",
    "    'Quelque part au monde, il y aura toujours des chiens.',\n",
    "    'The tabular data have been sequestered from the public.',\n",
    "]"
   ]
  },
  {
   "cell_type": "code",
   "execution_count": 5,
   "metadata": {},
   "outputs": [],
   "source": [
    "embeddings = openai.embeddings_utils.get_embeddings(\n",
    "    list_of_text=texts,\n",
    "    engine='text-embedding-ada-002',\n",
    ")\n",
    "matrix = np.array(embeddings)"
   ]
  },
  {
   "cell_type": "code",
   "execution_count": 6,
   "metadata": {},
   "outputs": [],
   "source": [
    "similarities = matrix @ matrix.transpose()"
   ]
  },
  {
   "cell_type": "code",
   "execution_count": 7,
   "metadata": {},
   "outputs": [
    {
     "data": {
      "text/html": [
       "<table>\n",
       "<tbody>\n",
       "<tr><td style=\"text-align: right;\">1       </td><td style=\"text-align: right;\">0.96136 </td><td style=\"text-align: right;\">0.945461</td><td style=\"text-align: right;\">0.941673</td><td style=\"text-align: right;\">0.719272</td><td style=\"text-align: right;\">0.722499</td><td style=\"text-align: right;\">0.727875</td><td style=\"text-align: right;\">0.715592</td></tr>\n",
       "<tr><td style=\"text-align: right;\">0.96136 </td><td style=\"text-align: right;\">1       </td><td style=\"text-align: right;\">0.962622</td><td style=\"text-align: right;\">0.975871</td><td style=\"text-align: right;\">0.721753</td><td style=\"text-align: right;\">0.725898</td><td style=\"text-align: right;\">0.736848</td><td style=\"text-align: right;\">0.710753</td></tr>\n",
       "<tr><td style=\"text-align: right;\">0.945461</td><td style=\"text-align: right;\">0.962622</td><td style=\"text-align: right;\">1       </td><td style=\"text-align: right;\">0.949166</td><td style=\"text-align: right;\">0.71452 </td><td style=\"text-align: right;\">0.716837</td><td style=\"text-align: right;\">0.720145</td><td style=\"text-align: right;\">0.687294</td></tr>\n",
       "<tr><td style=\"text-align: right;\">0.941673</td><td style=\"text-align: right;\">0.975871</td><td style=\"text-align: right;\">0.949166</td><td style=\"text-align: right;\">1       </td><td style=\"text-align: right;\">0.717612</td><td style=\"text-align: right;\">0.731943</td><td style=\"text-align: right;\">0.740106</td><td style=\"text-align: right;\">0.703177</td></tr>\n",
       "<tr><td style=\"text-align: right;\">0.719272</td><td style=\"text-align: right;\">0.721753</td><td style=\"text-align: right;\">0.71452 </td><td style=\"text-align: right;\">0.717612</td><td style=\"text-align: right;\">1       </td><td style=\"text-align: right;\">0.86839 </td><td style=\"text-align: right;\">0.825038</td><td style=\"text-align: right;\">0.70985 </td></tr>\n",
       "<tr><td style=\"text-align: right;\">0.722499</td><td style=\"text-align: right;\">0.725898</td><td style=\"text-align: right;\">0.716837</td><td style=\"text-align: right;\">0.731943</td><td style=\"text-align: right;\">0.86839 </td><td style=\"text-align: right;\">1       </td><td style=\"text-align: right;\">0.938141</td><td style=\"text-align: right;\">0.68828 </td></tr>\n",
       "<tr><td style=\"text-align: right;\">0.727875</td><td style=\"text-align: right;\">0.736848</td><td style=\"text-align: right;\">0.720145</td><td style=\"text-align: right;\">0.740106</td><td style=\"text-align: right;\">0.825038</td><td style=\"text-align: right;\">0.938141</td><td style=\"text-align: right;\">1       </td><td style=\"text-align: right;\">0.662717</td></tr>\n",
       "<tr><td style=\"text-align: right;\">0.715592</td><td style=\"text-align: right;\">0.710753</td><td style=\"text-align: right;\">0.687294</td><td style=\"text-align: right;\">0.703177</td><td style=\"text-align: right;\">0.70985 </td><td style=\"text-align: right;\">0.68828 </td><td style=\"text-align: right;\">0.662717</td><td style=\"text-align: right;\">1       </td></tr>\n",
       "</tbody>\n",
       "</table>"
      ],
      "text/plain": [
       "'<table>\\n<tbody>\\n<tr><td style=\"text-align: right;\">1       </td><td style=\"text-align: right;\">0.96136 </td><td style=\"text-align: right;\">0.945461</td><td style=\"text-align: right;\">0.941673</td><td style=\"text-align: right;\">0.719272</td><td style=\"text-align: right;\">0.722499</td><td style=\"text-align: right;\">0.727875</td><td style=\"text-align: right;\">0.715592</td></tr>\\n<tr><td style=\"text-align: right;\">0.96136 </td><td style=\"text-align: right;\">1       </td><td style=\"text-align: right;\">0.962622</td><td style=\"text-align: right;\">0.975871</td><td style=\"text-align: right;\">0.721753</td><td style=\"text-align: right;\">0.725898</td><td style=\"text-align: right;\">0.736848</td><td style=\"text-align: right;\">0.710753</td></tr>\\n<tr><td style=\"text-align: right;\">0.945461</td><td style=\"text-align: right;\">0.962622</td><td style=\"text-align: right;\">1       </td><td style=\"text-align: right;\">0.949166</td><td style=\"text-align: right;\">0.71452 </td><td style=\"text-align: right;\">0.716837</td><td style=\"text-align: right;\">0.720145</td><td style=\"text-align: right;\">0.687294</td></tr>\\n<tr><td style=\"text-align: right;\">0.941673</td><td style=\"text-align: right;\">0.975871</td><td style=\"text-align: right;\">0.949166</td><td style=\"text-align: right;\">1       </td><td style=\"text-align: right;\">0.717612</td><td style=\"text-align: right;\">0.731943</td><td style=\"text-align: right;\">0.740106</td><td style=\"text-align: right;\">0.703177</td></tr>\\n<tr><td style=\"text-align: right;\">0.719272</td><td style=\"text-align: right;\">0.721753</td><td style=\"text-align: right;\">0.71452 </td><td style=\"text-align: right;\">0.717612</td><td style=\"text-align: right;\">1       </td><td style=\"text-align: right;\">0.86839 </td><td style=\"text-align: right;\">0.825038</td><td style=\"text-align: right;\">0.70985 </td></tr>\\n<tr><td style=\"text-align: right;\">0.722499</td><td style=\"text-align: right;\">0.725898</td><td style=\"text-align: right;\">0.716837</td><td style=\"text-align: right;\">0.731943</td><td style=\"text-align: right;\">0.86839 </td><td style=\"text-align: right;\">1       </td><td style=\"text-align: right;\">0.938141</td><td style=\"text-align: right;\">0.68828 </td></tr>\\n<tr><td style=\"text-align: right;\">0.727875</td><td style=\"text-align: right;\">0.736848</td><td style=\"text-align: right;\">0.720145</td><td style=\"text-align: right;\">0.740106</td><td style=\"text-align: right;\">0.825038</td><td style=\"text-align: right;\">0.938141</td><td style=\"text-align: right;\">1       </td><td style=\"text-align: right;\">0.662717</td></tr>\\n<tr><td style=\"text-align: right;\">0.715592</td><td style=\"text-align: right;\">0.710753</td><td style=\"text-align: right;\">0.687294</td><td style=\"text-align: right;\">0.703177</td><td style=\"text-align: right;\">0.70985 </td><td style=\"text-align: right;\">0.68828 </td><td style=\"text-align: right;\">0.662717</td><td style=\"text-align: right;\">1       </td></tr>\\n</tbody>\\n</table>'"
      ]
     },
     "execution_count": 7,
     "metadata": {},
     "output_type": "execute_result"
    }
   ],
   "source": [
    "tabulate.tabulate(similarities, tablefmt='html')"
   ]
  },
  {
   "cell_type": "code",
   "execution_count": 8,
   "metadata": {},
   "outputs": [
    {
     "data": {
      "text/plain": [
       "array([[1.00000007, 0.96135997, 0.94546069, 0.94167307, 0.71927184, 0.72249866, 0.72787471, 0.71559152],\n",
       "       [0.96135997, 0.9999999 , 0.96262245, 0.97587119, 0.72175313, 0.72589809, 0.73684821, 0.71075299],\n",
       "       [0.94546069, 0.96262245, 0.99999994, 0.9491656 , 0.71452002, 0.71683662, 0.7201448 , 0.68729444],\n",
       "       [0.94167307, 0.97587119, 0.9491656 , 0.9999999 , 0.7176123 , 0.73194258, 0.74010571, 0.70317695],\n",
       "       [0.71927184, 0.72175313, 0.71452002, 0.7176123 , 0.99999999, 0.86839015, 0.8250379 , 0.70984951],\n",
       "       [0.72249866, 0.72589809, 0.71683662, 0.73194258, 0.86839015, 1.00000012, 0.93814063, 0.68827965],\n",
       "       [0.72787471, 0.73684821, 0.7201448 , 0.74010571, 0.8250379 , 0.93814063, 1.00000006, 0.66271651],\n",
       "       [0.71559152, 0.71075299, 0.68729444, 0.70317695, 0.70984951, 0.68827965, 0.66271651, 0.99999998]])"
      ]
     },
     "execution_count": 8,
     "metadata": {},
     "output_type": "execute_result"
    }
   ],
   "source": [
    "similarities  # For easier copying and pasting."
   ]
  }
 ],
 "metadata": {
  "kernelspec": {
   "display_name": "bed-vNjRVhtj",
   "language": "python",
   "name": "python3"
  },
  "language_info": {
   "codemirror_mode": {
    "name": "ipython",
    "version": 3
   },
   "file_extension": ".py",
   "mimetype": "text/x-python",
   "name": "python",
   "nbconvert_exporter": "python",
   "pygments_lexer": "ipython3",
   "version": "3.11.3"
  },
  "orig_nbformat": 4,
  "vscode": {
   "interpreter": {
    "hash": "f9569337c2404346193933531d883fa944c4a6206c7687dcf04327ceca4d7712"
   }
  }
 },
 "nbformat": 4,
 "nbformat_minor": 2
}
