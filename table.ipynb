{
 "cells": [
  {
   "attachments": {},
   "cell_type": "markdown",
   "metadata": {},
   "source": [
    "# All-pairs similarities\n",
    "\n",
    "SPDX-License-Identifier: 0BSD\n",
    "\n",
    "Multiplying a matrix whose rows are embeddings by is transpose gives a matrix whose $(i, j)$ entries are the similarities between the $i$-th and $j$-th embedding."
   ]
  },
  {
   "cell_type": "code",
   "execution_count": 1,
   "metadata": {},
   "outputs": [],
   "source": [
    "import numpy as np\n",
    "import openai.embeddings_utils\n",
    "import tabulate"
   ]
  },
  {
   "cell_type": "code",
   "execution_count": 2,
   "metadata": {},
   "outputs": [],
   "source": [
    "np.set_printoptions(linewidth=120)"
   ]
  },
  {
   "cell_type": "code",
   "execution_count": 3,
   "metadata": {},
   "outputs": [],
   "source": [
    "openai.api_key_path = '.api_key'"
   ]
  },
  {
   "cell_type": "code",
   "execution_count": 4,
   "metadata": {},
   "outputs": [],
   "source": [
    "texts = [\n",
    "    'French kissing experts',\n",
    "    'kissing French experts',\n",
    "    'experts in French kissing',\n",
    "    'kissing French people who are experts',\n",
    "    'The canine shall never perish from the earth.',\n",
    "    'Somewhere in the world, there will always be dogs.',\n",
    "    'Quelque part au monde, il y aura toujours des chiens.',\n",
    "    'The tabular data have been sequestered from the public.',\n",
    "]"
   ]
  },
  {
   "cell_type": "code",
   "execution_count": 5,
   "metadata": {},
   "outputs": [],
   "source": [
    "embeddings = openai.embeddings_utils.get_embeddings(\n",
    "    list_of_text=texts,\n",
    "    engine='text-embedding-ada-002',\n",
    ")\n",
    "matrix = np.array(embeddings)"
   ]
  },
  {
   "cell_type": "code",
   "execution_count": 6,
   "metadata": {},
   "outputs": [],
   "source": [
    "similarities = matrix @ matrix.transpose()"
   ]
  },
  {
   "cell_type": "code",
   "execution_count": 7,
   "metadata": {},
   "outputs": [
    {
     "data": {
      "text/html": [
       "<table>\n",
       "<tbody>\n",
       "<tr><td style=\"text-align: right;\">1       </td><td style=\"text-align: right;\">0.961513</td><td style=\"text-align: right;\">0.94552 </td><td style=\"text-align: right;\">0.941759</td><td style=\"text-align: right;\">0.719376</td><td style=\"text-align: right;\">0.722562</td><td style=\"text-align: right;\">0.727892</td><td style=\"text-align: right;\">0.71563 </td></tr>\n",
       "<tr><td style=\"text-align: right;\">0.961513</td><td style=\"text-align: right;\">1       </td><td style=\"text-align: right;\">0.962609</td><td style=\"text-align: right;\">0.975793</td><td style=\"text-align: right;\">0.721577</td><td style=\"text-align: right;\">0.725341</td><td style=\"text-align: right;\">0.736468</td><td style=\"text-align: right;\">0.710629</td></tr>\n",
       "<tr><td style=\"text-align: right;\">0.94552 </td><td style=\"text-align: right;\">0.962609</td><td style=\"text-align: right;\">1       </td><td style=\"text-align: right;\">0.949157</td><td style=\"text-align: right;\">0.71441 </td><td style=\"text-align: right;\">0.716588</td><td style=\"text-align: right;\">0.719931</td><td style=\"text-align: right;\">0.687273</td></tr>\n",
       "<tr><td style=\"text-align: right;\">0.941759</td><td style=\"text-align: right;\">0.975793</td><td style=\"text-align: right;\">0.949157</td><td style=\"text-align: right;\">1       </td><td style=\"text-align: right;\">0.717573</td><td style=\"text-align: right;\">0.731866</td><td style=\"text-align: right;\">0.740016</td><td style=\"text-align: right;\">0.703212</td></tr>\n",
       "<tr><td style=\"text-align: right;\">0.719376</td><td style=\"text-align: right;\">0.721577</td><td style=\"text-align: right;\">0.71441 </td><td style=\"text-align: right;\">0.717573</td><td style=\"text-align: right;\">1       </td><td style=\"text-align: right;\">0.86829 </td><td style=\"text-align: right;\">0.824897</td><td style=\"text-align: right;\">0.70988 </td></tr>\n",
       "<tr><td style=\"text-align: right;\">0.722562</td><td style=\"text-align: right;\">0.725341</td><td style=\"text-align: right;\">0.716588</td><td style=\"text-align: right;\">0.731866</td><td style=\"text-align: right;\">0.86829 </td><td style=\"text-align: right;\">1       </td><td style=\"text-align: right;\">0.938103</td><td style=\"text-align: right;\">0.688306</td></tr>\n",
       "<tr><td style=\"text-align: right;\">0.727892</td><td style=\"text-align: right;\">0.736468</td><td style=\"text-align: right;\">0.719931</td><td style=\"text-align: right;\">0.740016</td><td style=\"text-align: right;\">0.824897</td><td style=\"text-align: right;\">0.938103</td><td style=\"text-align: right;\">1       </td><td style=\"text-align: right;\">0.662602</td></tr>\n",
       "<tr><td style=\"text-align: right;\">0.71563 </td><td style=\"text-align: right;\">0.710629</td><td style=\"text-align: right;\">0.687273</td><td style=\"text-align: right;\">0.703212</td><td style=\"text-align: right;\">0.70988 </td><td style=\"text-align: right;\">0.688306</td><td style=\"text-align: right;\">0.662602</td><td style=\"text-align: right;\">1       </td></tr>\n",
       "</tbody>\n",
       "</table>"
      ],
      "text/plain": [
       "'<table>\\n<tbody>\\n<tr><td style=\"text-align: right;\">1       </td><td style=\"text-align: right;\">0.961513</td><td style=\"text-align: right;\">0.94552 </td><td style=\"text-align: right;\">0.941759</td><td style=\"text-align: right;\">0.719376</td><td style=\"text-align: right;\">0.722562</td><td style=\"text-align: right;\">0.727892</td><td style=\"text-align: right;\">0.71563 </td></tr>\\n<tr><td style=\"text-align: right;\">0.961513</td><td style=\"text-align: right;\">1       </td><td style=\"text-align: right;\">0.962609</td><td style=\"text-align: right;\">0.975793</td><td style=\"text-align: right;\">0.721577</td><td style=\"text-align: right;\">0.725341</td><td style=\"text-align: right;\">0.736468</td><td style=\"text-align: right;\">0.710629</td></tr>\\n<tr><td style=\"text-align: right;\">0.94552 </td><td style=\"text-align: right;\">0.962609</td><td style=\"text-align: right;\">1       </td><td style=\"text-align: right;\">0.949157</td><td style=\"text-align: right;\">0.71441 </td><td style=\"text-align: right;\">0.716588</td><td style=\"text-align: right;\">0.719931</td><td style=\"text-align: right;\">0.687273</td></tr>\\n<tr><td style=\"text-align: right;\">0.941759</td><td style=\"text-align: right;\">0.975793</td><td style=\"text-align: right;\">0.949157</td><td style=\"text-align: right;\">1       </td><td style=\"text-align: right;\">0.717573</td><td style=\"text-align: right;\">0.731866</td><td style=\"text-align: right;\">0.740016</td><td style=\"text-align: right;\">0.703212</td></tr>\\n<tr><td style=\"text-align: right;\">0.719376</td><td style=\"text-align: right;\">0.721577</td><td style=\"text-align: right;\">0.71441 </td><td style=\"text-align: right;\">0.717573</td><td style=\"text-align: right;\">1       </td><td style=\"text-align: right;\">0.86829 </td><td style=\"text-align: right;\">0.824897</td><td style=\"text-align: right;\">0.70988 </td></tr>\\n<tr><td style=\"text-align: right;\">0.722562</td><td style=\"text-align: right;\">0.725341</td><td style=\"text-align: right;\">0.716588</td><td style=\"text-align: right;\">0.731866</td><td style=\"text-align: right;\">0.86829 </td><td style=\"text-align: right;\">1       </td><td style=\"text-align: right;\">0.938103</td><td style=\"text-align: right;\">0.688306</td></tr>\\n<tr><td style=\"text-align: right;\">0.727892</td><td style=\"text-align: right;\">0.736468</td><td style=\"text-align: right;\">0.719931</td><td style=\"text-align: right;\">0.740016</td><td style=\"text-align: right;\">0.824897</td><td style=\"text-align: right;\">0.938103</td><td style=\"text-align: right;\">1       </td><td style=\"text-align: right;\">0.662602</td></tr>\\n<tr><td style=\"text-align: right;\">0.71563 </td><td style=\"text-align: right;\">0.710629</td><td style=\"text-align: right;\">0.687273</td><td style=\"text-align: right;\">0.703212</td><td style=\"text-align: right;\">0.70988 </td><td style=\"text-align: right;\">0.688306</td><td style=\"text-align: right;\">0.662602</td><td style=\"text-align: right;\">1       </td></tr>\\n</tbody>\\n</table>'"
      ]
     },
     "execution_count": 7,
     "metadata": {},
     "output_type": "execute_result"
    }
   ],
   "source": [
    "tabulate.tabulate(similarities, tablefmt='html')"
   ]
  },
  {
   "cell_type": "code",
   "execution_count": 8,
   "metadata": {},
   "outputs": [
    {
     "data": {
      "text/plain": [
       "array([[1.00000007, 0.96151331, 0.94552046, 0.9417594 , 0.71937574, 0.72256207, 0.72789152, 0.71562978],\n",
       "       [0.96151331, 1.00000008, 0.96260891, 0.9757931 , 0.7215771 , 0.72534129, 0.73646817, 0.71062949],\n",
       "       [0.94552046, 0.96260891, 0.99999991, 0.94915657, 0.71441041, 0.71658802, 0.71993105, 0.68727306],\n",
       "       [0.9417594 , 0.9757931 , 0.94915657, 1.00000002, 0.71757346, 0.73186562, 0.74001553, 0.70321216],\n",
       "       [0.71937574, 0.7215771 , 0.71441041, 0.71757346, 1.00000009, 0.86828993, 0.82489687, 0.70988046],\n",
       "       [0.72256207, 0.72534129, 0.71658802, 0.73186562, 0.86828993, 0.99999997, 0.93810281, 0.68830601],\n",
       "       [0.72789152, 0.73646817, 0.71993105, 0.74001553, 0.82489687, 0.93810281, 1.00000006, 0.66260217],\n",
       "       [0.71562978, 0.71062949, 0.68727306, 0.70321216, 0.70988046, 0.68830601, 0.66260217, 1.00000003]])"
      ]
     },
     "execution_count": 8,
     "metadata": {},
     "output_type": "execute_result"
    }
   ],
   "source": [
    "similarities  # For easier copying and pasting."
   ]
  }
 ],
 "metadata": {
  "kernelspec": {
   "display_name": "bed-vNjRVhtj",
   "language": "python",
   "name": "python3"
  },
  "language_info": {
   "codemirror_mode": {
    "name": "ipython",
    "version": 3
   },
   "file_extension": ".py",
   "mimetype": "text/x-python",
   "name": "python",
   "nbconvert_exporter": "python",
   "pygments_lexer": "ipython3",
   "version": "3.11.5"
  },
  "orig_nbformat": 4,
  "vscode": {
   "interpreter": {
    "hash": "f9569337c2404346193933531d883fa944c4a6206c7687dcf04327ceca4d7712"
   }
  }
 },
 "nbformat": 4,
 "nbformat_minor": 2
}
