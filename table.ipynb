{
 "cells": [
  {
   "attachments": {},
   "cell_type": "markdown",
   "metadata": {},
   "source": [
    "# All-pairs similarities\n",
    "\n",
    "SPDX-License-Identifier: 0BSD\n",
    "\n",
    "Multiplying a matrix whose rows are embeddings by is transpose gives a matrix whose $(i, j)$ entries are the similarities between the $i$-th and $j$-th embedding."
   ]
  },
  {
   "cell_type": "code",
   "execution_count": 1,
   "metadata": {},
   "outputs": [],
   "source": [
    "import numpy as np\n",
    "import openai.embeddings_utils\n",
    "import tabulate"
   ]
  },
  {
   "cell_type": "code",
   "execution_count": 2,
   "metadata": {},
   "outputs": [],
   "source": [
    "np.set_printoptions(linewidth=120)"
   ]
  },
  {
   "cell_type": "code",
   "execution_count": 3,
   "metadata": {},
   "outputs": [],
   "source": [
    "openai.api_key_path = '.api_key'"
   ]
  },
  {
   "cell_type": "code",
   "execution_count": 4,
   "metadata": {},
   "outputs": [],
   "source": [
    "texts = [\n",
    "    'French kissing experts',\n",
    "    'kissing French experts',\n",
    "    'experts in French kissing',\n",
    "    'kissing French people who are experts',\n",
    "    'The canine shall never perish from the earth.',\n",
    "    'Somewhere in the world, there will always be dogs.',\n",
    "    'Quelque part au monde, il y aura toujours des chiens.',\n",
    "    'The tabular data have been sequestered from the public.',\n",
    "]"
   ]
  },
  {
   "cell_type": "code",
   "execution_count": 5,
   "metadata": {},
   "outputs": [],
   "source": [
    "embeddings = openai.embeddings_utils.get_embeddings(\n",
    "    list_of_text=texts,\n",
    "    engine='text-embedding-ada-002',\n",
    ")\n",
    "matrix = np.array(embeddings)"
   ]
  },
  {
   "cell_type": "code",
   "execution_count": 6,
   "metadata": {},
   "outputs": [],
   "source": [
    "similarities = matrix @ matrix.transpose()"
   ]
  },
  {
   "cell_type": "code",
   "execution_count": 7,
   "metadata": {},
   "outputs": [
    {
     "data": {
      "text/html": [
       "<table>\n",
       "<tbody>\n",
       "<tr><td style=\"text-align: right;\">1       </td><td style=\"text-align: right;\">0.961492</td><td style=\"text-align: right;\">0.945535</td><td style=\"text-align: right;\">0.941705</td><td style=\"text-align: right;\">0.719123</td><td style=\"text-align: right;\">0.722473</td><td style=\"text-align: right;\">0.727735</td><td style=\"text-align: right;\">0.715555</td></tr>\n",
       "<tr><td style=\"text-align: right;\">0.961492</td><td style=\"text-align: right;\">1       </td><td style=\"text-align: right;\">0.962613</td><td style=\"text-align: right;\">0.975836</td><td style=\"text-align: right;\">0.72147 </td><td style=\"text-align: right;\">0.725428</td><td style=\"text-align: right;\">0.736469</td><td style=\"text-align: right;\">0.710628</td></tr>\n",
       "<tr><td style=\"text-align: right;\">0.945535</td><td style=\"text-align: right;\">0.962613</td><td style=\"text-align: right;\">1       </td><td style=\"text-align: right;\">0.949228</td><td style=\"text-align: right;\">0.714402</td><td style=\"text-align: right;\">0.716789</td><td style=\"text-align: right;\">0.720121</td><td style=\"text-align: right;\">0.687359</td></tr>\n",
       "<tr><td style=\"text-align: right;\">0.941705</td><td style=\"text-align: right;\">0.975836</td><td style=\"text-align: right;\">0.949228</td><td style=\"text-align: right;\">1       </td><td style=\"text-align: right;\">0.717597</td><td style=\"text-align: right;\">0.731912</td><td style=\"text-align: right;\">0.739976</td><td style=\"text-align: right;\">0.703402</td></tr>\n",
       "<tr><td style=\"text-align: right;\">0.719123</td><td style=\"text-align: right;\">0.72147 </td><td style=\"text-align: right;\">0.714402</td><td style=\"text-align: right;\">0.717597</td><td style=\"text-align: right;\">1       </td><td style=\"text-align: right;\">0.868362</td><td style=\"text-align: right;\">0.824903</td><td style=\"text-align: right;\">0.70993 </td></tr>\n",
       "<tr><td style=\"text-align: right;\">0.722473</td><td style=\"text-align: right;\">0.725428</td><td style=\"text-align: right;\">0.716789</td><td style=\"text-align: right;\">0.731912</td><td style=\"text-align: right;\">0.868362</td><td style=\"text-align: right;\">1       </td><td style=\"text-align: right;\">0.938064</td><td style=\"text-align: right;\">0.68847 </td></tr>\n",
       "<tr><td style=\"text-align: right;\">0.727735</td><td style=\"text-align: right;\">0.736469</td><td style=\"text-align: right;\">0.720121</td><td style=\"text-align: right;\">0.739976</td><td style=\"text-align: right;\">0.824903</td><td style=\"text-align: right;\">0.938064</td><td style=\"text-align: right;\">1       </td><td style=\"text-align: right;\">0.662738</td></tr>\n",
       "<tr><td style=\"text-align: right;\">0.715555</td><td style=\"text-align: right;\">0.710628</td><td style=\"text-align: right;\">0.687359</td><td style=\"text-align: right;\">0.703402</td><td style=\"text-align: right;\">0.70993 </td><td style=\"text-align: right;\">0.68847 </td><td style=\"text-align: right;\">0.662738</td><td style=\"text-align: right;\">1       </td></tr>\n",
       "</tbody>\n",
       "</table>"
      ],
      "text/plain": [
       "'<table>\\n<tbody>\\n<tr><td style=\"text-align: right;\">1       </td><td style=\"text-align: right;\">0.961492</td><td style=\"text-align: right;\">0.945535</td><td style=\"text-align: right;\">0.941705</td><td style=\"text-align: right;\">0.719123</td><td style=\"text-align: right;\">0.722473</td><td style=\"text-align: right;\">0.727735</td><td style=\"text-align: right;\">0.715555</td></tr>\\n<tr><td style=\"text-align: right;\">0.961492</td><td style=\"text-align: right;\">1       </td><td style=\"text-align: right;\">0.962613</td><td style=\"text-align: right;\">0.975836</td><td style=\"text-align: right;\">0.72147 </td><td style=\"text-align: right;\">0.725428</td><td style=\"text-align: right;\">0.736469</td><td style=\"text-align: right;\">0.710628</td></tr>\\n<tr><td style=\"text-align: right;\">0.945535</td><td style=\"text-align: right;\">0.962613</td><td style=\"text-align: right;\">1       </td><td style=\"text-align: right;\">0.949228</td><td style=\"text-align: right;\">0.714402</td><td style=\"text-align: right;\">0.716789</td><td style=\"text-align: right;\">0.720121</td><td style=\"text-align: right;\">0.687359</td></tr>\\n<tr><td style=\"text-align: right;\">0.941705</td><td style=\"text-align: right;\">0.975836</td><td style=\"text-align: right;\">0.949228</td><td style=\"text-align: right;\">1       </td><td style=\"text-align: right;\">0.717597</td><td style=\"text-align: right;\">0.731912</td><td style=\"text-align: right;\">0.739976</td><td style=\"text-align: right;\">0.703402</td></tr>\\n<tr><td style=\"text-align: right;\">0.719123</td><td style=\"text-align: right;\">0.72147 </td><td style=\"text-align: right;\">0.714402</td><td style=\"text-align: right;\">0.717597</td><td style=\"text-align: right;\">1       </td><td style=\"text-align: right;\">0.868362</td><td style=\"text-align: right;\">0.824903</td><td style=\"text-align: right;\">0.70993 </td></tr>\\n<tr><td style=\"text-align: right;\">0.722473</td><td style=\"text-align: right;\">0.725428</td><td style=\"text-align: right;\">0.716789</td><td style=\"text-align: right;\">0.731912</td><td style=\"text-align: right;\">0.868362</td><td style=\"text-align: right;\">1       </td><td style=\"text-align: right;\">0.938064</td><td style=\"text-align: right;\">0.68847 </td></tr>\\n<tr><td style=\"text-align: right;\">0.727735</td><td style=\"text-align: right;\">0.736469</td><td style=\"text-align: right;\">0.720121</td><td style=\"text-align: right;\">0.739976</td><td style=\"text-align: right;\">0.824903</td><td style=\"text-align: right;\">0.938064</td><td style=\"text-align: right;\">1       </td><td style=\"text-align: right;\">0.662738</td></tr>\\n<tr><td style=\"text-align: right;\">0.715555</td><td style=\"text-align: right;\">0.710628</td><td style=\"text-align: right;\">0.687359</td><td style=\"text-align: right;\">0.703402</td><td style=\"text-align: right;\">0.70993 </td><td style=\"text-align: right;\">0.68847 </td><td style=\"text-align: right;\">0.662738</td><td style=\"text-align: right;\">1       </td></tr>\\n</tbody>\\n</table>'"
      ]
     },
     "execution_count": 7,
     "metadata": {},
     "output_type": "execute_result"
    }
   ],
   "source": [
    "tabulate.tabulate(similarities, tablefmt='html')"
   ]
  },
  {
   "cell_type": "code",
   "execution_count": 8,
   "metadata": {},
   "outputs": [
    {
     "data": {
      "text/plain": [
       "array([[1.00000008, 0.96149215, 0.94553467, 0.94170528, 0.71912251, 0.72247262, 0.72773457, 0.71555522],\n",
       "       [0.96149215, 1.00000006, 0.96261264, 0.97583601, 0.7214696 , 0.72542832, 0.73646898, 0.71062843],\n",
       "       [0.94553467, 0.96261264, 1.00000006, 0.94922797, 0.71440175, 0.71678923, 0.72012051, 0.68735857],\n",
       "       [0.94170528, 0.97583601, 0.94922797, 0.99999998, 0.7175967 , 0.73191235, 0.73997589, 0.70340231],\n",
       "       [0.71912251, 0.7214696 , 0.71440175, 0.7175967 , 1.00000001, 0.86836248, 0.82490349, 0.70993017],\n",
       "       [0.72247262, 0.72542832, 0.71678923, 0.73191235, 0.86836248, 1.00000006, 0.93806435, 0.6884702 ],\n",
       "       [0.72773457, 0.73646898, 0.72012051, 0.73997589, 0.82490349, 0.93806435, 1.00000005, 0.6627378 ],\n",
       "       [0.71555522, 0.71062843, 0.68735857, 0.70340231, 0.70993017, 0.6884702 , 0.6627378 , 1.00000001]])"
      ]
     },
     "execution_count": 8,
     "metadata": {},
     "output_type": "execute_result"
    }
   ],
   "source": [
    "similarities  # For easier copying and pasting."
   ]
  },
  {
   "cell_type": "code",
   "execution_count": null,
   "metadata": {},
   "outputs": [],
   "source": []
  }
 ],
 "metadata": {
  "kernelspec": {
   "display_name": "bed",
   "language": "python",
   "name": "python3"
  },
  "language_info": {
   "codemirror_mode": {
    "name": "ipython",
    "version": 3
   },
   "file_extension": ".py",
   "mimetype": "text/x-python",
   "name": "python",
   "nbconvert_exporter": "python",
   "pygments_lexer": "ipython3",
   "version": "3.11.0"
  },
  "orig_nbformat": 4,
  "vscode": {
   "interpreter": {
    "hash": "01a8d1aa435ff86957be7258780b0cea2ae226025dac4edca366e95fb872fbf3"
   }
  }
 },
 "nbformat": 4,
 "nbformat_minor": 2
}
