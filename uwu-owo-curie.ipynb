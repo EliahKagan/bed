{
 "cells": [
  {
   "attachments": {},
   "cell_type": "markdown",
   "metadata": {},
   "source": [
    "# UwU vs. OwO binary classification attempt - Curie\n",
    "\n",
    "SPDX-License-Identifier: 0BSD\n",
    "\n",
    "This uses text-similarity-curie-001, a first-generation OpenAI embedding model.\n",
    "The terms are only narrowly distinguished."
   ]
  },
  {
   "cell_type": "code",
   "execution_count": 1,
   "metadata": {},
   "outputs": [],
   "source": [
    "import numpy as np\n",
    "import openai\n",
    "import openai.embeddings_utils"
   ]
  },
  {
   "cell_type": "code",
   "execution_count": 2,
   "metadata": {},
   "outputs": [],
   "source": [
    "openai.api_key_path = '.api_key'"
   ]
  },
  {
   "cell_type": "code",
   "execution_count": 3,
   "metadata": {},
   "outputs": [],
   "source": [
    "def embed_one(text):\n",
    "    embedding = openai.embeddings_utils.get_embedding(\n",
    "        text=text,\n",
    "        engine='text-similarity-curie-001',\n",
    "    )\n",
    "    return np.array(embedding)"
   ]
  },
  {
   "cell_type": "code",
   "execution_count": 4,
   "metadata": {},
   "outputs": [],
   "source": [
    "def embed_many(texts):\n",
    "    embeddings = openai.embeddings_utils.get_embeddings(\n",
    "        list_of_text=texts,\n",
    "        engine='text-similarity-curie-001',\n",
    "    )\n",
    "    return np.array(embeddings)"
   ]
  },
  {
   "cell_type": "code",
   "execution_count": 5,
   "metadata": {},
   "outputs": [],
   "source": [
    "uwu_owo = embed_many(['UwU', 'OwO'])"
   ]
  },
  {
   "cell_type": "code",
   "execution_count": 6,
   "metadata": {},
   "outputs": [
    {
     "data": {
      "text/plain": [
       "array([0.68027522, 0.68990227])"
      ]
     },
     "execution_count": 6,
     "metadata": {},
     "output_type": "execute_result"
    }
   ],
   "source": [
    "uwu_owo @ embed_one('relaxation')"
   ]
  },
  {
   "cell_type": "code",
   "execution_count": 7,
   "metadata": {},
   "outputs": [
    {
     "data": {
      "text/plain": [
       "array([0.73244287, 0.75508899])"
      ]
     },
     "execution_count": 7,
     "metadata": {},
     "output_type": "execute_result"
    }
   ],
   "source": [
    "uwu_owo @ embed_one('surprise')"
   ]
  },
  {
   "cell_type": "code",
   "execution_count": 8,
   "metadata": {},
   "outputs": [
    {
     "data": {
      "text/plain": [
       "array([0.67284418, 0.72396868])"
      ]
     },
     "execution_count": 8,
     "metadata": {},
     "output_type": "execute_result"
    }
   ],
   "source": [
    "uwu_owo @ embed_one('excitement')"
   ]
  }
 ],
 "metadata": {
  "kernelspec": {
   "display_name": "bed-vNjRVhtj",
   "language": "python",
   "name": "python3"
  },
  "language_info": {
   "codemirror_mode": {
    "name": "ipython",
    "version": 3
   },
   "file_extension": ".py",
   "mimetype": "text/x-python",
   "name": "python",
   "nbconvert_exporter": "python",
   "pygments_lexer": "ipython3",
   "version": "3.11.4"
  },
  "orig_nbformat": 4,
  "vscode": {
   "interpreter": {
    "hash": "f9569337c2404346193933531d883fa944c4a6206c7687dcf04327ceca4d7712"
   }
  }
 },
 "nbformat": 4,
 "nbformat_minor": 2
}
