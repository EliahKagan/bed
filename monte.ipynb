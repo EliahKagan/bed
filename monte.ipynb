{
 "cells": [
  {
   "attachments": {},
   "cell_type": "markdown",
   "metadata": {},
   "source": [
    "# Tiny Monte Carlo experiment on embedding similarity\n",
    "\n",
    "SPDX-License-Identifier: 0BSD\n",
    "\n",
    "This shows how embeddings of short English phrases are often much more similar\n",
    "than randomly (uniformly) picked normalized vectors. I think this makes\n",
    "intuitive sense, and isn't specific to OpenAI's models, but it's an interesting\n",
    "effect nonetheless."
   ]
  },
  {
   "cell_type": "code",
   "execution_count": 1,
   "metadata": {},
   "outputs": [],
   "source": [
    "from math import sqrt\n",
    "\n",
    "import numpy as np"
   ]
  },
  {
   "cell_type": "code",
   "execution_count": 2,
   "metadata": {},
   "outputs": [],
   "source": [
    "def make_vector(dimension):\n",
    "    vector = np.random.uniform(low=-1, high=1, size=(dimension,))\n",
    "    vector /= np.linalg.norm(vector)\n",
    "    return vector"
   ]
  },
  {
   "cell_type": "code",
   "execution_count": 3,
   "metadata": {},
   "outputs": [],
   "source": [
    "def compute_test_similarities(*, dimension, count):\n",
    "    iterator = (\n",
    "        np.dot(make_vector(dimension), make_vector(dimension))\n",
    "        for _ in range(count)\n",
    "    )\n",
    "    similarities = np.fromiter(iter=iterator, dtype=np.float32, count=count)\n",
    "    return abs(similarities)"
   ]
  },
  {
   "cell_type": "code",
   "execution_count": 4,
   "metadata": {},
   "outputs": [],
   "source": [
    "def test_dimension(dimension, *, count=1_000_000):\n",
    "    sims = compute_test_similarities(dimension=dimension, count=count)\n",
    "    print(f'{dimension=}, {1/sqrt(dimension)=}, {sims.mean()=}, {sims.var()=}')"
   ]
  },
  {
   "cell_type": "code",
   "execution_count": 5,
   "metadata": {},
   "outputs": [
    {
     "name": "stdout",
     "output_type": "stream",
     "text": [
      "dimension=300, 1/sqrt(dimension)=0.05773502691896257, sims.mean()=0.0461321, sims.var()=0.001211917\n"
     ]
    }
   ],
   "source": [
    "test_dimension(300)"
   ]
  },
  {
   "cell_type": "code",
   "execution_count": 6,
   "metadata": {},
   "outputs": [
    {
     "name": "stdout",
     "output_type": "stream",
     "text": [
      "dimension=1536, 1/sqrt(dimension)=0.025515518153991442, sims.mean()=0.020379607, sims.var()=0.00023664696\n"
     ]
    }
   ],
   "source": [
    "test_dimension(1536)"
   ]
  }
 ],
 "metadata": {
  "kernelspec": {
   "display_name": "bed-vNjRVhtj",
   "language": "python",
   "name": "python3"
  },
  "language_info": {
   "codemirror_mode": {
    "name": "ipython",
    "version": 3
   },
   "file_extension": ".py",
   "mimetype": "text/x-python",
   "name": "python",
   "nbconvert_exporter": "python",
   "pygments_lexer": "ipython3",
   "version": "3.11.2"
  },
  "orig_nbformat": 4,
  "vscode": {
   "interpreter": {
    "hash": "f9569337c2404346193933531d883fa944c4a6206c7687dcf04327ceca4d7712"
   }
  }
 },
 "nbformat": 4,
 "nbformat_minor": 2
}
